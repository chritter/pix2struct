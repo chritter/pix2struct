{
  "cells": [
    {
      "cell_type": "markdown",
      "metadata": {
        "id": "yf-nWLh0naJi"
      },
      "source": [
        "[![Open in Colab](https://colab.research.google.com/assets/colab-badge.svg)](https://colab.research.google.com/github/google/flax/blob/main/docs/guides/flax_basics.ipynb)\n",
        "[![Open On GitHub](https://img.shields.io/badge/Open-on%20GitHub-blue?logo=GitHub)](https://github.com/google/flax/blob/main/docs/guides/flax_basics.ipynb)\n",
        "\n",
        "# Flax Basics\n",
        "\n",
        "This notebook will walk you through the following workflow:\n",
        "\n",
        "*   Instantiating a model from Flax built-in layers or third-party models.\n",
        "*   Initializing parameters of the model and manually written training.\n",
        "*   Using optimizers provided by Flax to ease training.\n",
        "*   Serialization of parameters and other objects.\n",
        "*   Creating your own models and managing state."
      ]
    },
    {
      "cell_type": "markdown",
      "metadata": {
        "id": "KyANAaZtbs86"
      },
      "source": [
        "## Setting up our environment\n",
        "\n",
        "Here we provide the code needed to set up the environment for our notebook."
      ]
    },
    {
      "cell_type": "code",
      "execution_count": 1,
      "metadata": {
        "id": "qdrEVv9tinJn",
        "tags": [
          "skip-execution"
        ]
      },
      "outputs": [],
      "source": [
        "# # Install the latest JAXlib version.\n",
        "# !pip install --upgrade -q pip jax jaxlib\n",
        "# # Install Flax at head:\n",
        "# !pip install --upgrade -q git+https://github.com/google/flax.git"
      ]
    },
    {
      "cell_type": "code",
      "source": [
        "# Check GPU\n",
        "!nvidia-smi"
      ],
      "metadata": {
        "colab": {
          "base_uri": "https://localhost:8080/"
        },
        "id": "JD7X6a-owYec",
        "outputId": "c3b37161-1b35-49cf-e342-636cb503e4e5"
      },
      "execution_count": 2,
      "outputs": [
        {
          "output_type": "stream",
          "name": "stdout",
          "text": [
            "Fri Jan 13 00:41:21 2023       \n",
            "+-----------------------------------------------------------------------------+\n",
            "| NVIDIA-SMI 460.32.03    Driver Version: 460.32.03    CUDA Version: 11.2     |\n",
            "|-------------------------------+----------------------+----------------------+\n",
            "| GPU  Name        Persistence-M| Bus-Id        Disp.A | Volatile Uncorr. ECC |\n",
            "| Fan  Temp  Perf  Pwr:Usage/Cap|         Memory-Usage | GPU-Util  Compute M. |\n",
            "|                               |                      |               MIG M. |\n",
            "|===============================+======================+======================|\n",
            "|   0  Tesla T4            Off  | 00000000:00:04.0 Off |                    0 |\n",
            "| N/A   39C    P8     9W /  70W |      0MiB / 15109MiB |      0%      Default |\n",
            "|                               |                      |                  N/A |\n",
            "+-------------------------------+----------------------+----------------------+\n",
            "                                                                               \n",
            "+-----------------------------------------------------------------------------+\n",
            "| Processes:                                                                  |\n",
            "|  GPU   GI   CI        PID   Type   Process name                  GPU Memory |\n",
            "|        ID   ID                                                   Usage      |\n",
            "|=============================================================================|\n",
            "|  No running processes found                                                 |\n",
            "+-----------------------------------------------------------------------------+\n"
          ]
        }
      ]
    },
    {
      "cell_type": "code",
      "source": [
        "!pip install flax"
      ],
      "metadata": {
        "colab": {
          "base_uri": "https://localhost:8080/"
        },
        "id": "48w27N8WwoY2",
        "outputId": "7790d56c-6fa6-4c74-ba2c-87727a2cad56"
      },
      "execution_count": 3,
      "outputs": [
        {
          "output_type": "stream",
          "name": "stdout",
          "text": [
            "Looking in indexes: https://pypi.org/simple, https://us-python.pkg.dev/colab-wheels/public/simple/\n",
            "Collecting flax\n",
            "  Downloading flax-0.6.3-py3-none-any.whl (197 kB)\n",
            "\u001b[2K     \u001b[90m━━━━━━━━━━━━━━━━━━━━━━━━━━━━━━━━━━━━━━\u001b[0m \u001b[32m197.4/197.4 KB\u001b[0m \u001b[31m17.5 MB/s\u001b[0m eta \u001b[36m0:00:00\u001b[0m\n",
            "\u001b[?25hRequirement already satisfied: jax>=0.3.16 in /usr/local/lib/python3.8/dist-packages (from flax) (0.3.25)\n",
            "Requirement already satisfied: numpy>=1.12 in /usr/local/lib/python3.8/dist-packages (from flax) (1.21.6)\n",
            "Collecting optax\n",
            "  Downloading optax-0.1.4-py3-none-any.whl (154 kB)\n",
            "\u001b[2K     \u001b[90m━━━━━━━━━━━━━━━━━━━━━━━━━━━━━━━━━━━━━━\u001b[0m \u001b[32m154.9/154.9 KB\u001b[0m \u001b[31m20.8 MB/s\u001b[0m eta \u001b[36m0:00:00\u001b[0m\n",
            "\u001b[?25hRequirement already satisfied: PyYAML>=5.4.1 in /usr/local/lib/python3.8/dist-packages (from flax) (6.0)\n",
            "Requirement already satisfied: msgpack in /usr/local/lib/python3.8/dist-packages (from flax) (1.0.4)\n",
            "Requirement already satisfied: matplotlib in /usr/local/lib/python3.8/dist-packages (from flax) (3.2.2)\n",
            "Collecting tensorstore\n",
            "  Downloading tensorstore-0.1.30-cp38-cp38-manylinux_2_17_x86_64.manylinux2014_x86_64.whl (8.3 MB)\n",
            "\u001b[2K     \u001b[90m━━━━━━━━━━━━━━━━━━━━━━━━━━━━━━━━━━━━━━━━\u001b[0m \u001b[32m8.3/8.3 MB\u001b[0m \u001b[31m78.4 MB/s\u001b[0m eta \u001b[36m0:00:00\u001b[0m\n",
            "\u001b[?25hCollecting rich>=11.1\n",
            "  Downloading rich-13.0.1-py3-none-any.whl (238 kB)\n",
            "\u001b[2K     \u001b[90m━━━━━━━━━━━━━━━━━━━━━━━━━━━━━━━━━━━━━━\u001b[0m \u001b[32m238.1/238.1 KB\u001b[0m \u001b[31m29.2 MB/s\u001b[0m eta \u001b[36m0:00:00\u001b[0m\n",
            "\u001b[?25hRequirement already satisfied: typing-extensions>=4.1.1 in /usr/local/lib/python3.8/dist-packages (from flax) (4.4.0)\n",
            "Collecting orbax\n",
            "  Downloading orbax-0.1.0-py3-none-any.whl (66 kB)\n",
            "\u001b[2K     \u001b[90m━━━━━━━━━━━━━━━━━━━━━━━━━━━━━━━━━━━━━━━━\u001b[0m \u001b[32m67.0/67.0 KB\u001b[0m \u001b[31m9.5 MB/s\u001b[0m eta \u001b[36m0:00:00\u001b[0m\n",
            "\u001b[?25hRequirement already satisfied: opt-einsum in /usr/local/lib/python3.8/dist-packages (from jax>=0.3.16->flax) (3.3.0)\n",
            "Requirement already satisfied: scipy>=1.5 in /usr/local/lib/python3.8/dist-packages (from jax>=0.3.16->flax) (1.7.3)\n",
            "Collecting commonmark<0.10.0,>=0.9.0\n",
            "  Downloading commonmark-0.9.1-py2.py3-none-any.whl (51 kB)\n",
            "\u001b[2K     \u001b[90m━━━━━━━━━━━━━━━━━━━━━━━━━━━━━━━━━━━━━━━━\u001b[0m \u001b[32m51.1/51.1 KB\u001b[0m \u001b[31m6.6 MB/s\u001b[0m eta \u001b[36m0:00:00\u001b[0m\n",
            "\u001b[?25hRequirement already satisfied: pygments<3.0.0,>=2.6.0 in /usr/local/lib/python3.8/dist-packages (from rich>=11.1->flax) (2.6.1)\n",
            "Requirement already satisfied: pyparsing!=2.0.4,!=2.1.2,!=2.1.6,>=2.0.1 in /usr/local/lib/python3.8/dist-packages (from matplotlib->flax) (3.0.9)\n",
            "Requirement already satisfied: cycler>=0.10 in /usr/local/lib/python3.8/dist-packages (from matplotlib->flax) (0.11.0)\n",
            "Requirement already satisfied: kiwisolver>=1.0.1 in /usr/local/lib/python3.8/dist-packages (from matplotlib->flax) (1.4.4)\n",
            "Requirement already satisfied: python-dateutil>=2.1 in /usr/local/lib/python3.8/dist-packages (from matplotlib->flax) (2.8.2)\n",
            "Requirement already satisfied: absl-py>=0.7.1 in /usr/local/lib/python3.8/dist-packages (from optax->flax) (1.3.0)\n",
            "Requirement already satisfied: jaxlib>=0.1.37 in /usr/local/lib/python3.8/dist-packages (from optax->flax) (0.3.25+cuda11.cudnn805)\n",
            "Collecting chex>=0.1.5\n",
            "  Downloading chex-0.1.5-py3-none-any.whl (85 kB)\n",
            "\u001b[2K     \u001b[90m━━━━━━━━━━━━━━━━━━━━━━━━━━━━━━━━━━━━━━━━\u001b[0m \u001b[32m85.3/85.3 KB\u001b[0m \u001b[31m12.4 MB/s\u001b[0m eta \u001b[36m0:00:00\u001b[0m\n",
            "\u001b[?25hRequirement already satisfied: importlib_resources in /usr/local/lib/python3.8/dist-packages (from orbax->flax) (5.10.2)\n",
            "Collecting cached_property\n",
            "  Downloading cached_property-1.5.2-py2.py3-none-any.whl (7.6 kB)\n",
            "Requirement already satisfied: pytest in /usr/local/lib/python3.8/dist-packages (from orbax->flax) (3.6.4)\n",
            "Requirement already satisfied: etils in /usr/local/lib/python3.8/dist-packages (from orbax->flax) (0.9.0)\n",
            "Requirement already satisfied: dm-tree>=0.1.5 in /usr/local/lib/python3.8/dist-packages (from chex>=0.1.5->optax->flax) (0.1.8)\n",
            "Requirement already satisfied: toolz>=0.9.0 in /usr/local/lib/python3.8/dist-packages (from chex>=0.1.5->optax->flax) (0.12.0)\n",
            "Requirement already satisfied: six>=1.5 in /usr/local/lib/python3.8/dist-packages (from python-dateutil>=2.1->matplotlib->flax) (1.15.0)\n",
            "Requirement already satisfied: zipp>=3.1.0 in /usr/local/lib/python3.8/dist-packages (from importlib_resources->orbax->flax) (3.11.0)\n",
            "Requirement already satisfied: attrs>=17.4.0 in /usr/local/lib/python3.8/dist-packages (from pytest->orbax->flax) (22.2.0)\n",
            "Requirement already satisfied: py>=1.5.0 in /usr/local/lib/python3.8/dist-packages (from pytest->orbax->flax) (1.11.0)\n",
            "Requirement already satisfied: atomicwrites>=1.0 in /usr/local/lib/python3.8/dist-packages (from pytest->orbax->flax) (1.4.1)\n",
            "Requirement already satisfied: pluggy<0.8,>=0.5 in /usr/local/lib/python3.8/dist-packages (from pytest->orbax->flax) (0.7.1)\n",
            "Requirement already satisfied: setuptools in /usr/local/lib/python3.8/dist-packages (from pytest->orbax->flax) (57.4.0)\n",
            "Requirement already satisfied: more-itertools>=4.0.0 in /usr/local/lib/python3.8/dist-packages (from pytest->orbax->flax) (9.0.0)\n",
            "Installing collected packages: commonmark, cached_property, tensorstore, rich, chex, optax, orbax, flax\n",
            "Successfully installed cached_property-1.5.2 chex-0.1.5 commonmark-0.9.1 flax-0.6.3 optax-0.1.4 orbax-0.1.0 rich-13.0.1 tensorstore-0.1.30\n"
          ]
        }
      ]
    },
    {
      "cell_type": "code",
      "execution_count": 4,
      "metadata": {
        "id": "kN6bZDaReZO2"
      },
      "outputs": [],
      "source": [
        "import jax, flax\n",
        "from typing import Any, Callable, Sequence\n",
        "from jax import lax, random, numpy as jnp\n",
        "from flax.core import freeze, unfreeze\n",
        "from flax import linen as nn"
      ]
    },
    {
      "cell_type": "code",
      "source": [
        "jax.__version__, flax.__version__"
      ],
      "metadata": {
        "colab": {
          "base_uri": "https://localhost:8080/"
        },
        "id": "7WdN5_6FxEPv",
        "outputId": "c945bbd6-a2c8-47e1-8e36-744d9e857a43"
      },
      "execution_count": 5,
      "outputs": [
        {
          "output_type": "execute_result",
          "data": {
            "text/plain": [
              "('0.3.25', '0.6.3')"
            ]
          },
          "metadata": {},
          "execution_count": 5
        }
      ]
    },
    {
      "cell_type": "markdown",
      "metadata": {
        "id": "pCCwAbOLiscA"
      },
      "source": [
        "## Linear regression with Flax\n",
        "\n",
        "In the previous *JAX for the impatient* notebook, we finished up with a linear regression example. As we know, linear regression can also be written as a single dense neural network layer, which we will show in the following so that we can compare how it's done.\n",
        "\n",
        "A dense layer is a layer that has a kernel parameter $W\\in\\mathcal{M}_{m,n}(\\mathbb{R})$ where $m$ is the number of features as an output of the model, and $n$ the dimensionality of the input, and a bias parameter $b\\in\\mathbb{R}^m$. The dense layers returns $Wx+b$ from an input $x\\in\\mathbb{R}^n$.\n",
        "\n",
        "This dense layer is already provided by Flax in the `flax.linen` module (here imported as `nn`)."
      ]
    },
    {
      "cell_type": "code",
      "execution_count": 6,
      "metadata": {
        "id": "zWX2zEtphT4Y"
      },
      "outputs": [],
      "source": [
        "# We create one dense layer instance (taking 'features' parameter as input)\n",
        "model = nn.Dense(features=5)"
      ]
    },
    {
      "cell_type": "code",
      "source": [
        "model"
      ],
      "metadata": {
        "colab": {
          "base_uri": "https://localhost:8080/"
        },
        "id": "fajnTECAxen1",
        "outputId": "7ae7e925-9187-4ed8-ebdc-b5f782e03ee3"
      },
      "execution_count": 7,
      "outputs": [
        {
          "output_type": "execute_result",
          "data": {
            "text/plain": [
              "Dense(\n",
              "    # attributes\n",
              "    features = 5\n",
              "    use_bias = True\n",
              "    dtype = None\n",
              "    param_dtype = float32\n",
              "    precision = None\n",
              "    kernel_init = init\n",
              "    bias_init = zeros\n",
              ")"
            ]
          },
          "metadata": {},
          "execution_count": 7
        }
      ]
    },
    {
      "cell_type": "markdown",
      "metadata": {
        "id": "UmzP1QoQYAAN"
      },
      "source": [
        "Layers (and models in general, we'll use that word from now on) are subclasses of the `linen.Module` class.\n",
        "\n",
        "### Model parameters & initialization\n",
        "\n",
        "Parameters are not stored with the models themselves. You need to initialize parameters by calling the `init` function, using a PRNGKey and dummy input data."
      ]
    },
    {
      "cell_type": "code",
      "execution_count": 8,
      "metadata": {
        "colab": {
          "base_uri": "https://localhost:8080/"
        },
        "id": "K529lhzeYtl8",
        "outputId": "ed6169e3-bd04-42ef-e55b-a54b41ea564a"
      },
      "outputs": [
        {
          "output_type": "execute_result",
          "data": {
            "text/plain": [
              "FrozenDict({\n",
              "    params: {\n",
              "        bias: (5,),\n",
              "        kernel: (10, 5),\n",
              "    },\n",
              "})"
            ]
          },
          "metadata": {},
          "execution_count": 8
        }
      ],
      "source": [
        "key1, key2 = random.split(random.PRNGKey(0))\n",
        "x = random.normal(key1, (10,)) # Dummy input data\n",
        "params = model.init(key2, x) # Initialization call\n",
        "jax.tree_util.tree_map(lambda x: x.shape, params) # Checking output shapes"
      ]
    },
    {
      "cell_type": "code",
      "source": [
        "x.shape"
      ],
      "metadata": {
        "colab": {
          "base_uri": "https://localhost:8080/"
        },
        "id": "Jve5-ts3z8x5",
        "outputId": "3164b7f6-ed28-4bcf-9a49-c989d27be207"
      },
      "execution_count": 9,
      "outputs": [
        {
          "output_type": "execute_result",
          "data": {
            "text/plain": [
              "(10,)"
            ]
          },
          "metadata": {},
          "execution_count": 9
        }
      ]
    },
    {
      "cell_type": "markdown",
      "source": [
        "(10, 5)^T (10,) = (5) + (5) bias (5 neurons)"
      ],
      "metadata": {
        "id": "evjh0itM0bwZ"
      }
    },
    {
      "cell_type": "code",
      "source": [
        "params"
      ],
      "metadata": {
        "colab": {
          "base_uri": "https://localhost:8080/"
        },
        "id": "ZCJfOhsQyF6Z",
        "outputId": "258f7367-f74e-48c7-a68a-e84ab4704746"
      },
      "execution_count": 10,
      "outputs": [
        {
          "output_type": "execute_result",
          "data": {
            "text/plain": [
              "FrozenDict({\n",
              "    params: {\n",
              "        kernel: DeviceArray([[ 2.35571593e-01, -1.71652630e-01, -4.45728898e-02,\n",
              "                      -4.68043625e-01,  4.54595298e-01],\n",
              "                     [-6.87736511e-01,  3.67835432e-01, -1.79262117e-01,\n",
              "                       1.29276216e-01, -2.42580175e-01],\n",
              "                     [ 2.02303097e-01, -2.49465629e-01,  2.74955630e-01,\n",
              "                       4.73488301e-01, -1.98002532e-01],\n",
              "                     [ 2.74478376e-01, -1.21369645e-01, -2.25361690e-01,\n",
              "                      -4.78193611e-01, -9.63979959e-02],\n",
              "                     [-6.19886220e-02, -1.72743499e-01,  2.96947401e-04,\n",
              "                      -7.17593431e-01,  2.00894251e-01],\n",
              "                     [-5.60321212e-01,  3.27208459e-01,  1.06281511e-01,\n",
              "                       1.28758654e-01,  1.16973273e-01],\n",
              "                     [ 1.82219014e-01,  1.11444041e-01, -1.62924170e-01,\n",
              "                       3.24953273e-02, -1.67053357e-01],\n",
              "                     [ 4.31294084e-01,  2.08004534e-01,  1.47714198e-01,\n",
              "                      -8.51502791e-02, -1.26487076e-01],\n",
              "                     [ 3.29497337e-01,  1.08470373e-01, -4.01340097e-01,\n",
              "                       1.66956067e-01,  5.74723661e-01],\n",
              "                     [-3.84744763e-01, -3.75315577e-01, -5.35782166e-02,\n",
              "                      -2.51350939e-01, -4.78640795e-01]], dtype=float32),\n",
              "        bias: DeviceArray([0., 0., 0., 0., 0.], dtype=float32),\n",
              "    },\n",
              "})"
            ]
          },
          "metadata": {},
          "execution_count": 10
        }
      ]
    },
    {
      "cell_type": "markdown",
      "metadata": {
        "id": "NH7Y9xMEewmO"
      },
      "source": [
        "*Note: JAX and Flax, like NumPy, are row-based systems, meaning that vectors are represented as row vectors and not column vectors. This can be seen in the shape of the kernel here.*\n",
        "\n",
        "The result is what we expect: bias and kernel parameters of the correct size. Under the hood:\n",
        "\n",
        "*   The dummy input data `x` is used to trigger shape inference: we only declared the number of features we wanted in the output of the model, not the size of the input. Flax finds out by itself the correct size of the kernel.\n",
        "*   The random PRNG key is used to trigger the initialization functions (those have default values provided by the module here).\n",
        "* Initialization functions are called to generate the initial set of parameters that the model will use. Those are functions that take as arguments `(PRNG Key, shape, dtype)` and return an Array of shape `shape`.\n",
        "* The init function returns the initialized set of parameters (you can also get the output of the forward pass on the dummy input with the same syntax by using the `init_with_output` method instead of `init`."
      ]
    },
    {
      "cell_type": "code",
      "source": [
        "import numpy as np"
      ],
      "metadata": {
        "id": "fRzyuyHwzjY9"
      },
      "execution_count": 11,
      "outputs": []
    },
    {
      "cell_type": "code",
      "source": [
        "np.ones((3))"
      ],
      "metadata": {
        "colab": {
          "base_uri": "https://localhost:8080/"
        },
        "id": "luu0EwwIzg7X",
        "outputId": "3174e3b9-2e39-4c47-ca4c-5a6ca7d242b1"
      },
      "execution_count": 12,
      "outputs": [
        {
          "output_type": "execute_result",
          "data": {
            "text/plain": [
              "array([1., 1., 1.])"
            ]
          },
          "metadata": {},
          "execution_count": 12
        }
      ]
    },
    {
      "cell_type": "markdown",
      "metadata": {
        "id": "3yL9mKk7naJn"
      },
      "source": [
        "The output shows that the parameters are stored in a `FrozenDict` instance, which helps deal with the functional nature of JAX by preventing any mutation of the underlying dict and making the user aware of it. Read more about it in the [`flax.core.frozen_dict.FrozenDict` API docs](https://flax.readthedocs.io/en/latest/api_reference/flax.core.frozen_dict.html#flax.core.frozen_dict.FrozenDict).\n",
        "\n",
        "As a consequence, the following doesn't work:"
      ]
    },
    {
      "cell_type": "code",
      "execution_count": 13,
      "metadata": {
        "colab": {
          "base_uri": "https://localhost:8080/"
        },
        "id": "HtOFWeiynaJo",
        "outputId": "32e72c4e-a3e9-4083-eed2-6c16d992be80"
      },
      "outputs": [
        {
          "output_type": "stream",
          "name": "stdout",
          "text": [
            "Error:  FrozenDict is immutable.\n"
          ]
        }
      ],
      "source": [
        "try:\n",
        "    params['new_key'] = jnp.ones((2,2))\n",
        "except ValueError as e:\n",
        "    print(\"Error: \", e)"
      ]
    },
    {
      "cell_type": "markdown",
      "metadata": {
        "id": "M1qo9M3_naJo"
      },
      "source": [
        "To conduct a forward pass with the model with a given set of parameters (which are never stored with the model), we just use the `apply` method by providing it the parameters to use as well as the input:"
      ]
    },
    {
      "cell_type": "code",
      "execution_count": 14,
      "metadata": {
        "colab": {
          "base_uri": "https://localhost:8080/"
        },
        "id": "J8ietJecWiuK",
        "outputId": "6d966ba7-c572-433c-fb69-82c82cbe0d99"
      },
      "outputs": [
        {
          "output_type": "execute_result",
          "data": {
            "text/plain": [
              "DeviceArray([-1.3721197 ,  0.61131513,  0.6442838 ,  2.2192965 ,\n",
              "             -1.1271117 ], dtype=float32)"
            ]
          },
          "metadata": {},
          "execution_count": 14
        }
      ],
      "source": [
        "model.apply(params, x)"
      ]
    },
    {
      "cell_type": "markdown",
      "metadata": {
        "id": "lVsjgYzuSBGL"
      },
      "source": [
        "### Gradient descent\n",
        "\n",
        "If you jumped here directly without going through the JAX part, here is the linear regression formulation we're going to use: from a set of data points $\\{(x_i,y_i), i\\in \\{1,\\ldots, k\\}, x_i\\in\\mathbb{R}^n,y_i\\in\\mathbb{R}^m\\}$, we try to find a set of parameters $W\\in \\mathcal{M}_{m,n}(\\mathbb{R}), b\\in\\mathbb{R}^m$ such that the function $f_{W,b}(x)=Wx+b$ minimizes the mean squared error:\n",
        "\n",
        "$$\\mathcal{L}(W,b)\\rightarrow\\frac{1}{k}\\sum_{i=1}^{k} \\frac{1}{2}\\|y_i-f_{W,b}(x_i)\\|^2_2$$\n",
        "\n",
        "Here, we see that the tuple $(W,b)$ matches the parameters of the Dense layer. We'll perform gradient descent using those. Let's first generate the fake data we'll use. The data is exactly the same as in the JAX part's linear regression pytree example."
      ]
    },
    {
      "cell_type": "code",
      "execution_count": 15,
      "metadata": {
        "colab": {
          "base_uri": "https://localhost:8080/"
        },
        "id": "bFIiMnL4dl-e",
        "outputId": "b9714985-0bf4-490e-a9fc-e30fc96eccad"
      },
      "outputs": [
        {
          "output_type": "stream",
          "name": "stdout",
          "text": [
            "x shape: (20, 10) ; y shape: (20, 5)\n"
          ]
        }
      ],
      "source": [
        "# Set problem dimensions.\n",
        "n_samples = 20\n",
        "x_dim = 10\n",
        "y_dim = 5\n",
        "\n",
        "# Generate random ground truth W and b.\n",
        "key = random.PRNGKey(0)\n",
        "k1, k2 = random.split(key)\n",
        "W = random.normal(k1, (x_dim, y_dim))\n",
        "b = random.normal(k2, (y_dim,))\n",
        "# Store the parameters in a FrozenDict pytree.\n",
        "true_params = freeze({'params': {'bias': b, 'kernel': W}})\n",
        "\n",
        "# Generate samples with additional noise.\n",
        "key_sample, key_noise = random.split(k1)\n",
        "x_samples = random.normal(key_sample, (n_samples, x_dim))\n",
        "y_samples = jnp.dot(x_samples, W) + b + 0.1 * random.normal(key_noise,(n_samples, y_dim))\n",
        "print('x shape:', x_samples.shape, '; y shape:', y_samples.shape)"
      ]
    },
    {
      "cell_type": "code",
      "source": [
        "x_samples.shape, W.shape, jnp.dot(x_samples, W).shape"
      ],
      "metadata": {
        "colab": {
          "base_uri": "https://localhost:8080/"
        },
        "id": "IPtGuHe_798X",
        "outputId": "8efeacbd-044e-4efd-d9df-842ddacd0fb8"
      },
      "execution_count": 16,
      "outputs": [
        {
          "output_type": "execute_result",
          "data": {
            "text/plain": [
              "((20, 10), (10, 5), (20, 5))"
            ]
          },
          "metadata": {},
          "execution_count": 16
        }
      ]
    },
    {
      "cell_type": "markdown",
      "metadata": {
        "id": "ZHkioicCiUbx"
      },
      "source": [
        "We copy the same training loop that we used in the JAX pytree linear regression example with `jax.value_and_grad()`, but here we can use `model.apply()` instead of having to define our own feed-forward function (`predict_pytree()` in the [JAX example](https://flax.readthedocs.io/en/latest/guides/jax_for_the_impatient.html#linear-regression-with-pytrees))."
      ]
    },
    {
      "cell_type": "code",
      "execution_count": 17,
      "metadata": {
        "id": "JqJaVc7BeNyT"
      },
      "outputs": [],
      "source": [
        "# Same as JAX version but using model.apply().\n",
        "@jax.jit\n",
        "def mse(params, x_batched, y_batched):\n",
        "  # Define the squared loss for a single pair (x,y)\n",
        "  def squared_error(x, y):\n",
        "    pred = model.apply(params, x)\n",
        "    return jnp.inner(y-pred, y-pred) / 2.0\n",
        "  # Vectorize the previous to compute the average of the loss on all samples.\n",
        "  return jnp.mean(jax.vmap(squared_error)(x_batched,y_batched), axis=0)"
      ]
    },
    {
      "cell_type": "markdown",
      "metadata": {
        "id": "wGKru__mi15v"
      },
      "source": [
        "And finally perform the gradient descent."
      ]
    },
    {
      "cell_type": "code",
      "execution_count": 18,
      "metadata": {
        "colab": {
          "base_uri": "https://localhost:8080/"
        },
        "id": "ePEl1ndse0Jq",
        "outputId": "a81ee2ea-45bd-4e2e-b4f1-023dc1c5625f"
      },
      "outputs": [
        {
          "output_type": "stream",
          "name": "stdout",
          "text": [
            "Loss for \"true\" W,b:  0.023639796\n",
            "Loss step 0:  35.343876\n",
            "Loss step 10:  0.5143469\n",
            "Loss step 20:  0.113841645\n",
            "Loss step 30:  0.039326724\n",
            "Loss step 40:  0.019916208\n",
            "Loss step 50:  0.014209128\n",
            "Loss step 60:  0.012425638\n",
            "Loss step 70:  0.011850387\n",
            "Loss step 80:  0.0116617745\n",
            "Loss step 90:  0.011599407\n",
            "Loss step 100:  0.011578708\n"
          ]
        }
      ],
      "source": [
        "learning_rate = 0.3  # Gradient step size.\n",
        "print('Loss for \"true\" W,b: ', mse(true_params, x_samples, y_samples))\n",
        "loss_grad_fn = jax.value_and_grad(mse)\n",
        "\n",
        "@jax.jit\n",
        "def update_params(params, learning_rate, grads):\n",
        "  params = jax.tree_util.tree_map(\n",
        "      lambda p, g: p - learning_rate * g, params, grads) # here we propagate the update to the leaves and save in  *new* params \n",
        "  return params\n",
        "\n",
        "for i in range(101):\n",
        "  # Perform one gradient update.\n",
        "  loss_val, grads = loss_grad_fn(params, x_samples, y_samples)\n",
        "  params = update_params(params, learning_rate, grads)\n",
        "  if i % 10 == 0:\n",
        "    print(f'Loss step {i}: ', loss_val)"
      ]
    },
    {
      "cell_type": "markdown",
      "metadata": {
        "id": "zqEnJ9Poyb6q"
      },
      "source": [
        "### Optimizing with Optax\n",
        "\n",
        "Flax used to use its own `flax.optim` package for optimization, but with\n",
        "[FLIP #1009](https://github.com/google/flax/blob/main/docs/flip/1009-optimizer-api.md)\n",
        "this was deprecated in favor of\n",
        "[Optax](https://github.com/deepmind/optax).\n",
        "\n",
        "Basic usage of Optax is straightforward:\n",
        "\n",
        "1.   Choose an optimization method (e.g. `optax.adam`).\n",
        "2.   Create optimizer state from parameters (for the Adam optimizer, this state will contain the [momentum values](https://optax.readthedocs.io/en/latest/api.html#optax.adam)).\n",
        "3.   Compute the gradients of your loss with `jax.value_and_grad()`.\n",
        "4.   At every iteration, call the Optax `update` function to update the internal\n",
        "     optimizer state and create an update to the parameters. Then add the update\n",
        "     to the parameters with Optax's `apply_updates` method.\n",
        "\n",
        "Note that Optax can do a lot more: it's designed for composing simple gradient\n",
        "transformations into more complex transformations that allows to implement a\n",
        "wide range of optimizers. There is also support for changing optimizer\n",
        "hyperparameters over time (\"schedules\"), applying different updates to different\n",
        "parts of the parameter tree (\"masking\") and much more. For details please refer\n",
        "to the\n",
        "[official documentation](https://optax.readthedocs.io/en/latest/)."
      ]
    },
    {
      "cell_type": "code",
      "execution_count": 19,
      "metadata": {
        "id": "Ce77uDJx1bUF"
      },
      "outputs": [],
      "source": [
        "import optax\n",
        "tx = optax.adam(learning_rate=learning_rate)\n",
        "opt_state = tx.init(params)"
      ]
    },
    {
      "cell_type": "code",
      "source": [],
      "metadata": {
        "id": "hy7NLVgXltCt"
      },
      "execution_count": null,
      "outputs": []
    },
    {
      "cell_type": "markdown",
      "source": [
        "pytree structure similar to model params"
      ],
      "metadata": {
        "id": "51lN9xHwluTT"
      }
    },
    {
      "cell_type": "code",
      "source": [
        "opt_state"
      ],
      "metadata": {
        "colab": {
          "base_uri": "https://localhost:8080/"
        },
        "id": "uVIu9N5ZlgyF",
        "outputId": "159a3b5f-b3b7-4475-82f8-bc1d3e4dc685"
      },
      "execution_count": 34,
      "outputs": [
        {
          "output_type": "execute_result",
          "data": {
            "text/plain": [
              "(ScaleByAdamState(count=DeviceArray(101, dtype=int32), mu=FrozenDict({\n",
              "     params: {\n",
              "         bias: DeviceArray([8.4419778e-05, 8.6254418e-05, 8.4112398e-05, 8.5850959e-05,\n",
              "                      2.7581875e-04], dtype=float32),\n",
              "         kernel: DeviceArray([[ 3.7785831e-05,  3.9653976e-05,  3.7664751e-05,\n",
              "                        3.9230170e-05, -7.9206111e-06],\n",
              "                      [-4.8984188e-05, -4.6369638e-05, -4.9531027e-05,\n",
              "                       -4.6984744e-05,  2.3492430e-05],\n",
              "                      [ 1.3077255e-04,  1.3488121e-04,  1.2978450e-04,\n",
              "                        1.3396893e-04,  9.9794233e-05],\n",
              "                      [ 4.6204983e-05,  4.4384080e-05,  4.6581747e-05,\n",
              "                        4.4750392e-05, -1.7373214e-04],\n",
              "                      [ 3.1420896e-05,  3.2319105e-05,  3.1092823e-05,\n",
              "                        3.2122458e-05,  5.1404175e-05],\n",
              "                      [-1.2748332e-04, -1.2330414e-04, -1.2805173e-04,\n",
              "                       -1.2431902e-04, -3.2425162e-04],\n",
              "                      [-1.6390208e-04, -1.6417037e-04, -1.6359244e-04,\n",
              "                       -1.6419303e-04,  9.0250396e-06],\n",
              "                      [ 1.6109031e-04,  1.6258673e-04,  1.6110076e-04,\n",
              "                        1.6227248e-04, -1.2946726e-05],\n",
              "                      [-1.5377103e-04, -1.5180296e-04, -1.5391053e-04,\n",
              "                       -1.5238354e-04, -3.2200880e-04],\n",
              "                      [-8.6324872e-05, -8.7915767e-05, -8.5756910e-05,\n",
              "                       -8.7580040e-05,  6.3204803e-05]], dtype=float32),\n",
              "     },\n",
              " }), nu=FrozenDict({\n",
              "     params: {\n",
              "         bias: DeviceArray([0.0001865 , 0.00018674, 0.00018644, 0.00018669, 0.00039786],            dtype=float32),\n",
              "         kernel: DeviceArray([[3.06732400e-05, 3.03512370e-05, 3.06868496e-05,\n",
              "                       3.04313489e-05, 5.37452346e-04],\n",
              "                      [2.72133446e-04, 2.72599020e-04, 2.72070931e-04,\n",
              "                       2.72487436e-04, 5.76277089e-05],\n",
              "                      [1.13621492e-04, 1.13849383e-04, 1.13537651e-04,\n",
              "                       1.13797796e-04, 4.19334741e-04],\n",
              "                      [1.63554781e-04, 1.63082615e-04, 1.63645993e-04,\n",
              "                       1.63174773e-04, 9.29028320e-04],\n",
              "                      [3.27248163e-05, 3.29660143e-05, 3.26793779e-05,\n",
              "                       3.29061259e-05, 2.38802822e-04],\n",
              "                      [5.29407873e-04, 5.30793099e-04, 5.29229874e-04,\n",
              "                       5.30432735e-04, 6.14843040e-04],\n",
              "                      [2.08753278e-04, 2.08505342e-04, 2.08782963e-04,\n",
              "                       2.08567872e-04, 2.34539184e-04],\n",
              "                      [2.29056226e-04, 2.29767145e-04, 2.28952907e-04,\n",
              "                       2.29591751e-04, 4.95804765e-04],\n",
              "                      [1.26392129e-04, 1.26571336e-04, 1.26365849e-04,\n",
              "                       1.26564148e-04, 2.17745706e-04],\n",
              "                      [1.36536735e-04, 1.36606206e-04, 1.36537798e-04,\n",
              "                       1.36586619e-04, 1.12979564e-04]], dtype=float32),\n",
              "     },\n",
              " })), EmptyState())"
            ]
          },
          "metadata": {},
          "execution_count": 34
        }
      ]
    },
    {
      "cell_type": "code",
      "source": [],
      "metadata": {
        "id": "PfCdZ2qtoEKK"
      },
      "execution_count": null,
      "outputs": []
    },
    {
      "cell_type": "code",
      "source": [
        "opt_state[0].mu['params']['bias'].shape"
      ],
      "metadata": {
        "colab": {
          "base_uri": "https://localhost:8080/"
        },
        "id": "hNy7GhbJl18G",
        "outputId": "5518fdc6-74fd-45de-95a4-f284e67a61b5"
      },
      "execution_count": 39,
      "outputs": [
        {
          "output_type": "execute_result",
          "data": {
            "text/plain": [
              "(5,)"
            ]
          },
          "metadata": {},
          "execution_count": 39
        }
      ]
    },
    {
      "cell_type": "code",
      "source": [
        "opt_state[0].mu['params']['kernel'].shape"
      ],
      "metadata": {
        "colab": {
          "base_uri": "https://localhost:8080/"
        },
        "id": "Q_s8S-gKo0Kt",
        "outputId": "3b00531b-e1e7-4d6b-ddc1-506fc2d4d15f"
      },
      "execution_count": 40,
      "outputs": [
        {
          "output_type": "execute_result",
          "data": {
            "text/plain": [
              "(10, 5)"
            ]
          },
          "metadata": {},
          "execution_count": 40
        }
      ]
    },
    {
      "cell_type": "code",
      "source": [
        "opt_state[0].nu['params']['kernel'].shape"
      ],
      "metadata": {
        "colab": {
          "base_uri": "https://localhost:8080/"
        },
        "id": "9eZ0Hmbto4-X",
        "outputId": "41bf2201-90a5-4184-d74b-95158ba203a7"
      },
      "execution_count": 41,
      "outputs": [
        {
          "output_type": "execute_result",
          "data": {
            "text/plain": [
              "(10, 5)"
            ]
          },
          "metadata": {},
          "execution_count": 41
        }
      ]
    },
    {
      "cell_type": "code",
      "source": [
        "opt_state[0].nu['params']['bias'].shape"
      ],
      "metadata": {
        "colab": {
          "base_uri": "https://localhost:8080/"
        },
        "id": "LqEE2USbo6pd",
        "outputId": "5f45a5cc-a23c-45c2-b08e-db48508daa5c"
      },
      "execution_count": 42,
      "outputs": [
        {
          "output_type": "execute_result",
          "data": {
            "text/plain": [
              "(5,)"
            ]
          },
          "metadata": {},
          "execution_count": 42
        }
      ]
    },
    {
      "cell_type": "markdown",
      "source": [
        "kernels have same dimension as the kernel of the dense layer. They carry the moving average and squared moving average of all parameters after all. https://arxiv.org/pdf/1609.04747.pdf\n",
        "\n"
      ],
      "metadata": {
        "id": "xa6M_u8vpJFD"
      }
    },
    {
      "cell_type": "code",
      "source": [],
      "metadata": {
        "id": "YYnXCuHzo_cQ"
      },
      "execution_count": null,
      "outputs": []
    },
    {
      "cell_type": "markdown",
      "source": [
        "essentially the whole network definition (not weights) is contained in the mse function"
      ],
      "metadata": {
        "id": "QNzC5tgMmnwy"
      }
    },
    {
      "cell_type": "code",
      "source": [
        "\n",
        "loss_grad_fn = jax.value_and_grad(mse)"
      ],
      "metadata": {
        "id": "S6r7vre4lhKL"
      },
      "execution_count": 28,
      "outputs": []
    },
    {
      "cell_type": "code",
      "execution_count": 29,
      "metadata": {
        "colab": {
          "base_uri": "https://localhost:8080/"
        },
        "id": "PTSv0vx13xPO",
        "outputId": "4c512246-5368-436e-e149-b7b83a8922bf"
      },
      "outputs": [
        {
          "output_type": "stream",
          "name": "stdout",
          "text": [
            "Loss step 0:  0.011577619\n",
            "Loss step 10:  0.26144287\n",
            "Loss step 20:  0.07675611\n",
            "Loss step 30:  0.03644108\n",
            "Loss step 40:  0.022013972\n",
            "Loss step 50:  0.016178856\n",
            "Loss step 60:  0.013002962\n",
            "Loss step 70:  0.012026138\n",
            "Loss step 80:  0.011764428\n",
            "Loss step 90:  0.011646037\n",
            "Loss step 100:  0.011585514\n"
          ]
        }
      ],
      "source": [
        "for i in range(101):\n",
        "  loss_val, grads = loss_grad_fn(params, x_samples, y_samples)\n",
        "  updates, opt_state = tx.update(grads, opt_state)\n",
        "  params = optax.apply_updates(params, updates)\n",
        "  if i % 10 == 0:\n",
        "    print('Loss step {}: '.format(i), loss_val)"
      ]
    },
    {
      "cell_type": "markdown",
      "source": [
        "We could print out the Adam parameters at each epoch via opt_state "
      ],
      "metadata": {
        "id": "xy-DcAFtm3OP"
      }
    },
    {
      "cell_type": "code",
      "source": [],
      "metadata": {
        "id": "BALqkrSAm1d5"
      },
      "execution_count": null,
      "outputs": []
    },
    {
      "cell_type": "markdown",
      "metadata": {
        "id": "0eAPPwtpXYu7"
      },
      "source": [
        "### Serializing the result\n",
        "\n",
        "Now that we're happy with the result of our training, we might want to save the model parameters to load them back later. Flax provides a serialization package to enable you to do that."
      ]
    },
    {
      "cell_type": "code",
      "source": [],
      "metadata": {
        "id": "Ujxmr4VnqwWv"
      },
      "execution_count": null,
      "outputs": []
    },
    {
      "cell_type": "code",
      "execution_count": 43,
      "metadata": {
        "colab": {
          "base_uri": "https://localhost:8080/"
        },
        "id": "BiUPRU93XnAZ",
        "outputId": "663cd404-9e77-41db-f836-a83eb38c87dc"
      },
      "outputs": [
        {
          "output_type": "stream",
          "name": "stdout",
          "text": [
            "Dict output\n",
            "{'params': {'bias': DeviceArray([-1.4555762 , -2.0277984 ,  2.0790977 ,  1.2186147 ,\n",
            "             -0.99809736], dtype=float32), 'kernel': DeviceArray([[ 1.009881  ,  0.18934382,  0.04455106, -0.928022  ,\n",
            "               0.3478402 ],\n",
            "             [ 1.7298452 ,  0.98793656,  1.1640462 ,  1.1006075 ,\n",
            "              -0.10653938],\n",
            "             [-1.2029457 ,  0.28635252,  1.4155988 ,  0.11870988,\n",
            "              -1.3141484 ],\n",
            "             [-1.1941482 , -0.18958496,  0.03413888,  1.3169429 ,\n",
            "               0.08060338],\n",
            "             [ 0.13852432,  1.3713046 , -1.3187189 ,  0.5315268 ,\n",
            "              -2.2404993 ],\n",
            "             [ 0.5629398 ,  0.81223106,  0.3175198 ,  0.5345507 ,\n",
            "               0.9050035 ],\n",
            "             [-0.37926078,  1.7410387 ,  1.0790285 , -0.50398403,\n",
            "               0.92830586],\n",
            "             [ 0.97064984, -1.3153398 ,  0.3368159 ,  0.809935  ,\n",
            "              -1.2018455 ],\n",
            "             [ 1.0194304 , -0.62024873,  1.0818819 , -1.8389751 ,\n",
            "              -0.4580506 ],\n",
            "             [-0.643654  ,  0.4566668 , -1.132914  , -0.6853866 ,\n",
            "               0.16829014]], dtype=float32)}}\n",
            "Bytes output\n",
            "b'\\x81\\xa6params\\x82\\xa4bias\\xc7!\\x01\\x93\\x91\\x05\\xa7float32\\xc4\\x14RP\\xba\\xbfs\\xc7\\x01\\xc0\\xf0\\x0f\\x05@\\x91\\xfb\\x9b?O\\x83\\x7f\\xbf\\xa6kernel\\xc7\\xd6\\x01\\x93\\x92\\n\\x05\\xa7float32\\xc4\\xc8\\xc8C\\x81?Y\\xe3A>-{6=\\xda\\x92m\\xbf\\x1c\\x18\\xb2>\\x91k\\xdd?i\\xe9|?w\\xff\\x94?\\xb5\\xe0\\x8c?Q1\\xda\\xbd \\xfa\\x99\\xbf\\xcc\\x9c\\x92>W2\\xb5?+\\x1e\\xf3=\\x046\\xa8\\xbf\\xd9\\xd9\\x98\\xbf\\x8f\"B\\xbe5\\xd5\\x0b=\\x96\\x91\\xa8?b\\x13\\xa5=R\\xd9\\r>\\xe9\\x86\\xaf?\\xc8\\xcb\\xa8\\xbf$\\x12\\x08?Wd\\x0f\\xc0\\xd3\\x1c\\x10?`\\xeeO?\\xf5\\x91\\xa2>Q\\xd8\\x08?O\\xaeg?x.\\xc2\\xbe[\\xda\\xde?\\x9b\\x1d\\x8a?\\x19\\x05\\x01\\xbft\\xa5m?\\x82|x?\\x0e]\\xa8\\xbf\"s\\xac>\\xe6WO?\\x13\\xd6\\x99\\xbf\\xb2|\\x82?\\x9f\\xc8\\x1e\\xbf\\x1b{\\x8a?\\x89c\\xeb\\xbf\\x9c\\x85\\xea\\xbe\\x82\\xc6$\\xbf;\\xd0\\xe9>S\\x03\\x91\\xbf\\x7fu/\\xbf@T,>'\n"
          ]
        }
      ],
      "source": [
        "from flax import serialization\n",
        "bytes_output = serialization.to_bytes(params)\n",
        "dict_output = serialization.to_state_dict(params)\n",
        "print('Dict output')\n",
        "print(dict_output)\n",
        "print('Bytes output')\n",
        "print(bytes_output)"
      ]
    },
    {
      "cell_type": "markdown",
      "metadata": {
        "id": "eielPo2KZByd"
      },
      "source": [
        "To load the model back, you'll need to use a template of the model parameter structure, like the one you would get from the model initialization. Here, we use the previously generated `params` as a template. Note that this will produce a new variable structure, and not mutate in-place.\n",
        "\n",
        "*The point of enforcing structure through template is to avoid users issues downstream, so you need to first have the right model that generates the parameters structure.*"
      ]
    },
    {
      "cell_type": "code",
      "execution_count": null,
      "metadata": {
        "colab": {
          "base_uri": "https://localhost:8080/"
        },
        "id": "MOhoBDCOYYJ5",
        "outputId": "13acc4e1-8757-4554-e2c8-d594ba6e67dc"
      },
      "outputs": [
        {
          "data": {
            "text/plain": [
              "FrozenDict({\n",
              "    params: {\n",
              "        bias: array([-1.4540135, -2.0262308,  2.0806582,  1.2201802, -0.9964547],\n",
              "              dtype=float32),\n",
              "        kernel: array([[ 1.0106664 ,  0.19014716,  0.04533899, -0.92722285,  0.34720102],\n",
              "               [ 1.7320251 ,  0.9901233 ,  1.1662225 ,  1.1027892 , -0.10574618],\n",
              "               [-1.2009128 ,  0.28837162,  1.4176372 ,  0.12073109, -1.3132601 ],\n",
              "               [-1.1944956 , -0.18993308,  0.03379077,  1.3165942 ,  0.07996067],\n",
              "               [ 0.14103189,  1.3737966 , -1.3162128 ,  0.53401774, -2.239638  ],\n",
              "               [ 0.5643044 ,  0.813604  ,  0.31888172,  0.5359193 ,  0.90352124],\n",
              "               [-0.37948322,  1.7408353 ,  1.0788013 , -0.5041964 ,  0.9286919 ],\n",
              "               [ 0.9701384 , -1.3158673 ,  0.33630812,  0.80941117, -1.202457  ],\n",
              "               [ 1.0198247 , -0.6198277 ,  1.0822718 , -1.8385581 , -0.45790705],\n",
              "               [-0.64384323,  0.4564892 , -1.1331053 , -0.68556863,  0.17010891]],\n",
              "              dtype=float32),\n",
              "    },\n",
              "})"
            ]
          },
          "execution_count": 14,
          "metadata": {
            "tags": []
          },
          "output_type": "execute_result"
        }
      ],
      "source": [
        "serialization.from_bytes(params, bytes_output)"
      ]
    },
    {
      "cell_type": "markdown",
      "metadata": {
        "id": "8mNu8nuOhDC5"
      },
      "source": [
        "## Defining your own models\n",
        "\n",
        "Flax allows you to define your own models, which should be a bit more complicated than a linear regression. In this section, we'll show you how to build simple models. To do so, you'll need to create subclasses of the base `nn.Module` class.\n",
        "\n",
        "*Keep in mind that we imported* `linen as nn` *and this only works with the new linen API*"
      ]
    },
    {
      "cell_type": "markdown",
      "metadata": {
        "id": "1sllHAdRlpmQ"
      },
      "source": [
        "### Module basics\n",
        "\n",
        "The base abstraction for models is the `nn.Module` class, and every type of predefined layers in Flax (like the previous `Dense`) is a subclass of `nn.Module`. Let's take a look and start by defining a simple but custom multi-layer perceptron i.e. a sequence of Dense layers interleaved with calls to a non-linear activation function."
      ]
    },
    {
      "cell_type": "code",
      "execution_count": 48,
      "metadata": {
        "colab": {
          "base_uri": "https://localhost:8080/"
        },
        "id": "vbfrfbkxgPhg",
        "outputId": "aaa2215b-a522-4061-8f8c-d469346a1cd4"
      },
      "outputs": [
        {
          "output_type": "stream",
          "name": "stdout",
          "text": [
            "initialized parameter shapes:\n",
            " {'params': {'layers_0': {'bias': (3,), 'kernel': (4, 3)}, 'layers_1': {'bias': (4,), 'kernel': (3, 4)}, 'layers_2': {'bias': (5,), 'kernel': (4, 5)}}}\n",
            "output:\n",
            " [[ 0.          0.          0.          0.          0.        ]\n",
            " [ 0.00723788 -0.00810345 -0.02550932  0.02151709 -0.01261238]\n",
            " [ 0.          0.          0.          0.          0.        ]\n",
            " [ 0.          0.          0.          0.          0.        ]]\n"
          ]
        }
      ],
      "source": [
        "class ExplicitMLP(nn.Module):\n",
        "  features: Sequence[int]\n",
        "\n",
        "  def setup(self):\n",
        "    # we automatically know what to do with lists, dicts of submodules\n",
        "    self.layers = [nn.Dense(feat) for feat in self.features]\n",
        "    # for single submodules, we would just write:\n",
        "    # self.layer1 = nn.Dense(feat1)\n",
        "\n",
        "  def __call__(self, inputs):\n",
        "    x = inputs\n",
        "    for i, lyr in enumerate(self.layers):\n",
        "      x = lyr(x)\n",
        "      if i != len(self.layers) - 1:\n",
        "        x = nn.relu(x)\n",
        "    return x\n",
        "\n",
        "key1, key2 = random.split(random.PRNGKey(0), 2)\n",
        "x = random.uniform(key1, (4,4))\n",
        "\n",
        "model = ExplicitMLP(features=[3,4,5])\n",
        "params = model.init(key2, x)\n",
        "y = model.apply(params, x)\n",
        "\n",
        "print('initialized parameter shapes:\\n', jax.tree_util.tree_map(jnp.shape, unfreeze(params)))\n",
        "print('output:\\n', y)"
      ]
    },
    {
      "cell_type": "code",
      "source": [
        "jax.tree_util.tree_map(jnp.shape, unfreeze(params))"
      ],
      "metadata": {
        "colab": {
          "base_uri": "https://localhost:8080/"
        },
        "id": "slXG_wwtrz0r",
        "outputId": "7b614b21-e6ad-47e8-dd6c-70438c58058d"
      },
      "execution_count": 49,
      "outputs": [
        {
          "output_type": "execute_result",
          "data": {
            "text/plain": [
              "{'params': {'layers_0': {'bias': (3,), 'kernel': (4, 3)},\n",
              "  'layers_1': {'bias': (4,), 'kernel': (3, 4)},\n",
              "  'layers_2': {'bias': (5,), 'kernel': (4, 5)}}}"
            ]
          },
          "metadata": {},
          "execution_count": 49
        }
      ]
    },
    {
      "cell_type": "code",
      "source": [
        "y.reshape(-1, 1).shape[0]"
      ],
      "metadata": {
        "colab": {
          "base_uri": "https://localhost:8080/"
        },
        "id": "HvYJDcd2svus",
        "outputId": "fee149cb-b6e8-486d-ad5f-314162f198fc"
      },
      "execution_count": 54,
      "outputs": [
        {
          "output_type": "execute_result",
          "data": {
            "text/plain": [
              "20"
            ]
          },
          "metadata": {},
          "execution_count": 54
        }
      ]
    },
    {
      "cell_type": "code",
      "source": [
        "jnp.reshape"
      ],
      "metadata": {
        "colab": {
          "base_uri": "https://localhost:8080/"
        },
        "id": "hbGrU_8is_86",
        "outputId": "f0f0f982-9405-4269-a825-6dce87a23f86"
      },
      "execution_count": 55,
      "outputs": [
        {
          "output_type": "execute_result",
          "data": {
            "text/plain": [
              "<function jax._src.numpy.lax_numpy.reshape(a: Union[jax._src.basearray.Array, numpy.ndarray, numpy.bool_, numpy.number, bool, int, float, complex], newshape: Union[int, Any, Sequence[Union[int, Any]]], order: str = 'C') -> jax._src.basearray.Array>"
            ]
          },
          "metadata": {},
          "execution_count": 55
        }
      ]
    },
    {
      "cell_type": "code",
      "source": [
        "jax.tree_util.tree_map(lambda x: jnp.reshape(x, (-1, 1))[0], unfreeze(params))"
      ],
      "metadata": {
        "colab": {
          "base_uri": "https://localhost:8080/"
        },
        "id": "AZZ2-kK0saTm",
        "outputId": "5dcd4fbf-e3d3-4909-9498-a60e610581f4"
      },
      "execution_count": 56,
      "outputs": [
        {
          "output_type": "execute_result",
          "data": {
            "text/plain": [
              "{'params': {'layers_0': {'bias': DeviceArray([0.], dtype=float32),\n",
              "   'kernel': DeviceArray([0.15538356], dtype=float32)},\n",
              "  'layers_1': {'bias': DeviceArray([0.], dtype=float32),\n",
              "   'kernel': DeviceArray([-1.035799], dtype=float32)},\n",
              "  'layers_2': {'bias': DeviceArray([0.], dtype=float32),\n",
              "   'kernel': DeviceArray([-0.6535059], dtype=float32)}}}"
            ]
          },
          "metadata": {},
          "execution_count": 56
        }
      ]
    },
    {
      "cell_type": "code",
      "source": [
        "jax.tree_util.tree_map(lambda x: jnp.reshape(x, (-1, 1))[0], params)"
      ],
      "metadata": {
        "colab": {
          "base_uri": "https://localhost:8080/"
        },
        "id": "lpdlP7cKtMvv",
        "outputId": "d86e4d2f-d1d2-489c-d168-0977c49f5d96"
      },
      "execution_count": 57,
      "outputs": [
        {
          "output_type": "execute_result",
          "data": {
            "text/plain": [
              "FrozenDict({\n",
              "    params: {\n",
              "        layers_0: {\n",
              "            bias: DeviceArray([0.], dtype=float32),\n",
              "            kernel: DeviceArray([0.15538356], dtype=float32),\n",
              "        },\n",
              "        layers_1: {\n",
              "            bias: DeviceArray([0.], dtype=float32),\n",
              "            kernel: DeviceArray([-1.035799], dtype=float32),\n",
              "        },\n",
              "        layers_2: {\n",
              "            bias: DeviceArray([0.], dtype=float32),\n",
              "            kernel: DeviceArray([-0.6535059], dtype=float32),\n",
              "        },\n",
              "    },\n",
              "})"
            ]
          },
          "metadata": {},
          "execution_count": 57
        }
      ]
    },
    {
      "cell_type": "markdown",
      "source": [],
      "metadata": {
        "id": "zuw3P2PrsWrt"
      }
    },
    {
      "cell_type": "code",
      "source": [],
      "metadata": {
        "id": "mcuy2uvEtRtk"
      },
      "execution_count": null,
      "outputs": []
    },
    {
      "cell_type": "markdown",
      "metadata": {
        "id": "DDITIjXitEZl"
      },
      "source": [
        "As we can see, a `nn.Module` subclass is made of:\n",
        "\n",
        "*   A collection of data fields (`nn.Module` are Python dataclasses) - here we only have the `features` field of type `Sequence[int]`.\n",
        "*   A `setup()` method that is being called at the end of the `__postinit__` where you can register submodules, variables, parameters you will need in your model.\n",
        "*   A `__call__` function that returns the output of the model from a given input.\n",
        "*   The model structure defines a pytree of parameters following the same tree structure as the model: the params tree contains one `layers_n` sub dict per layer, and each of those contain the parameters of the associated Dense layer. The layout is very explicit.\n",
        "\n",
        "*Note: lists are mostly managed as you would expect (WIP), there are corner cases you should be aware of as pointed out* [here](https://github.com/google/flax/issues/524)\n",
        "\n",
        "Since the module structure and its parameters are not tied to each other, you can't directly call `model(x)` on a given input as it will return an error. The `__call__` function is being wrapped up in the `apply` one, which is the one to call on an input:"
      ]
    },
    {
      "cell_type": "code",
      "execution_count": 58,
      "metadata": {
        "colab": {
          "base_uri": "https://localhost:8080/"
        },
        "id": "DEYrVA6dnaJu",
        "outputId": "8c9795ab-1740-4d6a-c426-ce7ee0c95c82"
      },
      "outputs": [
        {
          "output_type": "stream",
          "name": "stdout",
          "text": [
            "\"ExplicitMLP\" object has no attribute \"layers\". If \"layers\" is defined in '.setup()', remember these fields are only accessible from inside 'init' or 'apply'.\n"
          ]
        }
      ],
      "source": [
        "try:\n",
        "    y = model(x) # Returns an error\n",
        "except AttributeError as e:\n",
        "    print(e)"
      ]
    },
    {
      "cell_type": "markdown",
      "metadata": {
        "id": "I__UrmShnaJu"
      },
      "source": [
        "Since here we have a very simple model, we could have used an alternative (but equivalent) way of declaring the submodules inline in the `__call__` using the `@nn.compact` annotation like so:"
      ]
    },
    {
      "cell_type": "code",
      "execution_count": 59,
      "metadata": {
        "colab": {
          "base_uri": "https://localhost:8080/"
        },
        "id": "ZTCbdpQ4suSK",
        "outputId": "900dca96-540f-48bf-b237-c1f6d5024ca3"
      },
      "outputs": [
        {
          "output_type": "stream",
          "name": "stdout",
          "text": [
            "initialized parameter shapes:\n",
            " {'params': {'layers_0': {'bias': (3,), 'kernel': (4, 3)}, 'layers_1': {'bias': (4,), 'kernel': (3, 4)}, 'layers_2': {'bias': (5,), 'kernel': (4, 5)}}}\n",
            "output:\n",
            " [[ 0.          0.          0.          0.          0.        ]\n",
            " [ 0.00723788 -0.00810345 -0.02550932  0.02151709 -0.01261238]\n",
            " [ 0.          0.          0.          0.          0.        ]\n",
            " [ 0.          0.          0.          0.          0.        ]]\n"
          ]
        }
      ],
      "source": [
        "class SimpleMLP(nn.Module):\n",
        "  features: Sequence[int]\n",
        "\n",
        "  @nn.compact\n",
        "  def __call__(self, inputs):\n",
        "    x = inputs\n",
        "    for i, feat in enumerate(self.features):\n",
        "      x = nn.Dense(feat, name=f'layers_{i}')(x)\n",
        "      if i != len(self.features) - 1:\n",
        "        x = nn.relu(x)\n",
        "      # providing a name is optional though!\n",
        "      # the default autonames would be \"Dense_0\", \"Dense_1\", ...\n",
        "    return x\n",
        "\n",
        "key1, key2 = random.split(random.PRNGKey(0), 2)\n",
        "x = random.uniform(key1, (4,4))\n",
        "\n",
        "model = SimpleMLP(features=[3,4,5])\n",
        "params = model.init(key2, x)\n",
        "y = model.apply(params, x)\n",
        "\n",
        "print('initialized parameter shapes:\\n', jax.tree_util.tree_map(jnp.shape, unfreeze(params)))\n",
        "print('output:\\n', y)"
      ]
    },
    {
      "cell_type": "markdown",
      "metadata": {
        "id": "es7YHjgexT-L"
      },
      "source": [
        "There are, however, a few differences you should be aware of between the two declaration modes:\n",
        "\n",
        "*   In `setup`, you are able to name some sublayers and keep them around for further use (e.g. encoder/decoder methods in autoencoders).\n",
        "*   If you want to have multiple methods, then you **need** to declare the module using `setup`, as the `@nn.compact` annotation only allows one method to be annotated.\n",
        "*   The last initialization will be handled differently. See these notes for more details (TODO: add notes link)."
      ]
    },
    {
      "cell_type": "markdown",
      "metadata": {
        "id": "-ykceROJyp7W"
      },
      "source": [
        "### Module parameters\n",
        "\n",
        "In the previous MLP example, we relied only on predefined layers and operators (`Dense`, `relu`). Let's imagine that you didn't have a Dense layer provided by Flax and you wanted to write it on your own. Here is what it would look like using the `@nn.compact` way to declare a new modules:"
      ]
    },
    {
      "cell_type": "code",
      "execution_count": 60,
      "metadata": {
        "colab": {
          "base_uri": "https://localhost:8080/"
        },
        "id": "wK371Pt_vVfR",
        "outputId": "735ae519-4899-41bd-e8c5-38e1e400b9dc"
      },
      "outputs": [
        {
          "output_type": "stream",
          "name": "stdout",
          "text": [
            "initialized parameters:\n",
            " FrozenDict({\n",
            "    params: {\n",
            "        kernel: DeviceArray([[ 0.61506   , -0.22728713,  0.60547006],\n",
            "                     [-0.2961799 ,  1.1232013 , -0.879759  ],\n",
            "                     [-0.35162622,  0.38064912,  0.68932474],\n",
            "                     [-0.1151355 ,  0.04567899, -1.091212  ]], dtype=float32),\n",
            "        bias: DeviceArray([0., 0., 0.], dtype=float32),\n",
            "    },\n",
            "})\n",
            "output:\n",
            " [[-0.02996201  1.102088   -0.6660265 ]\n",
            " [-0.31092793  0.6323942  -0.53678817]\n",
            " [ 0.0142401   0.94247174 -0.63561475]\n",
            " [ 0.36818963  0.3586519  -0.00459225]]\n"
          ]
        }
      ],
      "source": [
        "class SimpleDense(nn.Module):\n",
        "  features: int\n",
        "  kernel_init: Callable = nn.initializers.lecun_normal()\n",
        "  bias_init: Callable = nn.initializers.zeros\n",
        "\n",
        "  @nn.compact\n",
        "  def __call__(self, inputs):\n",
        "    kernel = self.param('kernel',\n",
        "                        self.kernel_init, # Initialization function\n",
        "                        (inputs.shape[-1], self.features))  # shape info.\n",
        "    y = lax.dot_general(inputs, kernel,\n",
        "                        (((inputs.ndim - 1,), (0,)), ((), ())),) # TODO Why not jnp.dot?\n",
        "    bias = self.param('bias', self.bias_init, (self.features,))\n",
        "    y = y + bias\n",
        "    return y\n",
        "\n",
        "key1, key2 = random.split(random.PRNGKey(0), 2)\n",
        "x = random.uniform(key1, (4,4))\n",
        "\n",
        "model = SimpleDense(features=3)\n",
        "params = model.init(key2, x)\n",
        "y = model.apply(params, x)\n",
        "\n",
        "print('initialized parameters:\\n', params)\n",
        "print('output:\\n', y)"
      ]
    },
    {
      "cell_type": "markdown",
      "metadata": {
        "id": "MKyhfzVpzC94"
      },
      "source": [
        "Here, we see how to both declare and assign a parameter to the model using the `self.param` method. It takes as input `(name, init_fn, *init_args)` :\n",
        "\n",
        "*   `name` is simply the name of the parameter that will end up in the parameter structure.\n",
        "*   `init_fn` is a function with input `(PRNGKey, *init_args)` returning an Array, with `init_args` being the arguments needed to call the initialisation function.\n",
        "*   `init_args` are the arguments to provide to the initialization function.\n",
        "\n",
        "Such params can also be declared in the `setup` method; it won't be able to use shape inference because Flax is using lazy initialization at the first call site."
      ]
    },
    {
      "cell_type": "markdown",
      "metadata": {
        "id": "QmSpxyqLDr58"
      },
      "source": [
        "### Variables and collections of variables\n",
        "\n",
        "As we've seen so far, working with models means working with:\n",
        "\n",
        "*   A subclass of `nn.Module`;\n",
        "*   A pytree of parameters for the model (typically from `model.init()`);\n",
        "\n",
        "However this is not enough to cover everything that we would need for machine learning, especially neural networks. In some cases, you might want your neural network to keep track of some internal state while it runs (e.g. batch normalization layers). There is a way to declare variables beyond the parameters of the model with the `variable` method.\n",
        "\n",
        "For demonstration purposes, we'll implement a simplified but similar mechanism to batch normalization: we'll store running averages and subtract those to the input at training time. For proper batchnorm, you should use (and look at) the implementation [here](https://github.com/google/flax/blob/main/flax/linen/normalization.py)."
      ]
    },
    {
      "cell_type": "code",
      "execution_count": null,
      "metadata": {
        "colab": {
          "base_uri": "https://localhost:8080/"
        },
        "id": "J6_tR-nPzB1i",
        "outputId": "75465fd6-cdc8-497c-a3ec-7f709b5dde7a"
      },
      "outputs": [
        {
          "name": "stdout",
          "output_type": "stream",
          "text": [
            "initialized variables:\n",
            " FrozenDict({\n",
            "    batch_stats: {\n",
            "        mean: DeviceArray([0., 0., 0., 0., 0.], dtype=float32),\n",
            "    },\n",
            "    params: {\n",
            "        bias: DeviceArray([0., 0., 0., 0., 0.], dtype=float32),\n",
            "    },\n",
            "})\n",
            "updated state:\n",
            " FrozenDict({\n",
            "    batch_stats: {\n",
            "        mean: DeviceArray([[0.01, 0.01, 0.01, 0.01, 0.01]], dtype=float32),\n",
            "    },\n",
            "})\n"
          ]
        }
      ],
      "source": [
        "class BiasAdderWithRunningMean(nn.Module):\n",
        "  decay: float = 0.99\n",
        "\n",
        "  @nn.compact\n",
        "  def __call__(self, x):\n",
        "    # easy pattern to detect if we're initializing via empty variable tree\n",
        "    is_initialized = self.has_variable('batch_stats', 'mean')\n",
        "    ra_mean = self.variable('batch_stats', 'mean',\n",
        "                            lambda s: jnp.zeros(s),\n",
        "                            x.shape[1:])\n",
        "    mean = ra_mean.value # This will either get the value or trigger init\n",
        "    bias = self.param('bias', lambda rng, shape: jnp.zeros(shape), x.shape[1:])\n",
        "    if is_initialized:\n",
        "      ra_mean.value = self.decay * ra_mean.value + (1.0 - self.decay) * jnp.mean(x, axis=0, keepdims=True)\n",
        "\n",
        "    return x - ra_mean.value + bias\n",
        "\n",
        "\n",
        "key1, key2 = random.split(random.PRNGKey(0), 2)\n",
        "x = jnp.ones((10,5))\n",
        "model = BiasAdderWithRunningMean()\n",
        "variables = model.init(key1, x)\n",
        "print('initialized variables:\\n', variables)\n",
        "y, updated_state = model.apply(variables, x, mutable=['batch_stats'])\n",
        "print('updated state:\\n', updated_state)"
      ]
    },
    {
      "cell_type": "markdown",
      "metadata": {
        "id": "5OHBbMJng3ic"
      },
      "source": [
        "Here, `updated_state` returns only the state variables that are being mutated by the model while applying it on data. To update the variables and get the new parameters of the model, we can use the following pattern:"
      ]
    },
    {
      "cell_type": "code",
      "execution_count": null,
      "metadata": {
        "colab": {
          "base_uri": "https://localhost:8080/"
        },
        "id": "IbTsCAvZcdBy",
        "outputId": "09a8bdd1-eaf8-401a-cf7c-386a7a5aa87b"
      },
      "outputs": [
        {
          "name": "stdout",
          "output_type": "stream",
          "text": [
            "updated state:\n",
            " FrozenDict({\n",
            "    batch_stats: {\n",
            "        mean: DeviceArray([[0.01, 0.01, 0.01, 0.01, 0.01]], dtype=float32),\n",
            "    },\n",
            "})\n",
            "updated state:\n",
            " FrozenDict({\n",
            "    batch_stats: {\n",
            "        mean: DeviceArray([[0.0299, 0.0299, 0.0299, 0.0299, 0.0299]], dtype=float32),\n",
            "    },\n",
            "})\n",
            "updated state:\n",
            " FrozenDict({\n",
            "    batch_stats: {\n",
            "        mean: DeviceArray([[0.059601, 0.059601, 0.059601, 0.059601, 0.059601]], dtype=float32),\n",
            "    },\n",
            "})\n"
          ]
        }
      ],
      "source": [
        "for val in [1.0, 2.0, 3.0]:\n",
        "  x = val * jnp.ones((10,5))\n",
        "  y, updated_state = model.apply(variables, x, mutable=['batch_stats'])\n",
        "  old_state, params = variables.pop('params')\n",
        "  variables = freeze({'params': params, **updated_state})\n",
        "  print('updated state:\\n', updated_state) # Shows only the mutable part"
      ]
    },
    {
      "cell_type": "markdown",
      "metadata": {
        "id": "GuUSOSKegKIM"
      },
      "source": [
        "From this simplified example, you should be able to derive a full BatchNorm implementation, or any layer involving a state. To finish, let's add an optimizer to see how to play with both parameters updated by an optimizer and state variables.\n",
        "\n",
        "*This example isn't doing anything and is only for demonstration purposes.*"
      ]
    },
    {
      "cell_type": "code",
      "execution_count": null,
      "metadata": {
        "colab": {
          "base_uri": "https://localhost:8080/"
        },
        "id": "TUgAbUPpnaJw",
        "outputId": "0906fbab-b866-4956-d231-b1374415d448"
      },
      "outputs": [
        {
          "name": "stdout",
          "output_type": "stream",
          "text": [
            "Updated state:  FrozenDict({\n",
            "    batch_stats: {\n",
            "        mean: DeviceArray([[0.01, 0.01, 0.01, 0.01, 0.01]], dtype=float32),\n",
            "    },\n",
            "})\n",
            "Updated state:  FrozenDict({\n",
            "    batch_stats: {\n",
            "        mean: DeviceArray([[0.0199, 0.0199, 0.0199, 0.0199, 0.0199]], dtype=float32),\n",
            "    },\n",
            "})\n",
            "Updated state:  FrozenDict({\n",
            "    batch_stats: {\n",
            "        mean: DeviceArray([[0.029701, 0.029701, 0.029701, 0.029701, 0.029701]], dtype=float32),\n",
            "    },\n",
            "})\n"
          ]
        }
      ],
      "source": [
        "from functools import partial\n",
        "\n",
        "@partial(jax.jit, static_argnums=(0, 1))\n",
        "def update_step(tx, apply_fn, x, opt_state, params, state):\n",
        "\n",
        "  def loss(params):\n",
        "    y, updated_state = apply_fn({'params': params, **state},\n",
        "                                x, mutable=list(state.keys()))\n",
        "    l = ((x - y) ** 2).sum()\n",
        "    return l, updated_state\n",
        "\n",
        "  (l, state), grads = jax.value_and_grad(loss, has_aux=True)(params)\n",
        "  updates, opt_state = tx.update(grads, opt_state)\n",
        "  params = optax.apply_updates(params, updates)\n",
        "  return opt_state, params, state\n",
        "\n",
        "x = jnp.ones((10,5))\n",
        "variables = model.init(random.PRNGKey(0), x)\n",
        "state, params = variables.pop('params')\n",
        "del variables\n",
        "tx = optax.sgd(learning_rate=0.02)\n",
        "opt_state = tx.init(params)\n",
        "\n",
        "for _ in range(3):\n",
        "  opt_state, params, state = update_step(tx, model.apply, x, opt_state, params, state)\n",
        "  print('Updated state: ', state)"
      ]
    },
    {
      "cell_type": "markdown",
      "metadata": {
        "id": "eWUmx5EjtWge"
      },
      "source": [
        "Note that the above function has a quite verbose signature and it would not actually\n",
        "work with `jax.jit()` because the function arguments are not \"valid JAX types\".\n",
        "\n",
        "Flax provides a handy wrapper - `TrainState` - that simplifies the above code. Check out [`flax.training.train_state.TrainState`](https://flax.readthedocs.io/en/latest/api_reference/flax.training.html#flax.training.train_state.TrainState) to learn more."
      ]
    },
    {
      "cell_type": "markdown",
      "metadata": {
        "id": "_GL0PsCwnaJw"
      },
      "source": [
        "### Exporting to Tensorflow's SavedModel with jax2tf\n",
        "\n",
        "JAX released an experimental converter called [jax2tf](https://github.com/google/jax/tree/main/jax/experimental/jax2tf), which allows converting trained Flax models into Tensorflow's SavedModel format (so it can be used for [TF Hub](https://www.tensorflow.org/hub), [TF.lite](https://www.tensorflow.org/lite), [TF.js](https://www.tensorflow.org/js), or other downstream applications). The repository contains more documentation and has various examples for Flax."
      ]
    }
  ],
  "metadata": {
    "colab": {
      "name": "Flax basics.ipynb",
      "provenance": []
    },
    "jupytext": {
      "formats": "ipynb,md:myst"
    },
    "kernelspec": {
      "display_name": "Python 3",
      "name": "python3"
    },
    "accelerator": "GPU",
    "gpuClass": "standard"
  },
  "nbformat": 4,
  "nbformat_minor": 0
}
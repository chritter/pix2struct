{
  "cells": [
    {
      "cell_type": "markdown",
      "metadata": {
        "id": "view-in-github",
        "colab_type": "text"
      },
      "source": [
        "<a href=\"https://colab.research.google.com/github/chritter/pix2struct/blob/main/JAX/JaxImpatient.ipynb\" target=\"_parent\"><img src=\"https://colab.research.google.com/assets/colab-badge.svg\" alt=\"Open In Colab\"/></a>"
      ]
    },
    {
      "cell_type": "markdown",
      "metadata": {
        "id": "SwtfSYdoHsc_"
      },
      "source": [
        "[![Open in Colab](https://colab.research.google.com/assets/colab-badge.svg)](https://colab.research.google.com/github/google/flax/blob/main/docs/guides/jax_for_the_impatient.ipynb)\n",
        "[![Open On GitHub](https://img.shields.io/badge/Open-on%20GitHub-blue?logo=GitHub)](https://github.com/google/flax/blob/main/docs/guides/jax_for_the_impatient.ipynb)\n",
        "\n",
        "# JAX for the Impatient\n",
        "**JAX is NumPy on the CPU, GPU, and TPU, with great automatic differentiation for high-performance machine learning research.**\n",
        "\n",
        "Here we will cover the basics of JAX so that you can get started with Flax, however we very much recommend that you go through JAX's documentation [here](https://jax.readthedocs.io/en/latest/notebooks/quickstart.html) after going over the basics here."
      ]
    },
    {
      "cell_type": "markdown",
      "metadata": {
        "id": "gF2oOT78zOIr"
      },
      "source": [
        "## NumPy API\n",
        "\n",
        "Let's start by exploring the NumPy API coming from JAX and the main differences you should be aware of."
      ]
    },
    {
      "cell_type": "code",
      "execution_count": 1,
      "metadata": {
        "id": "5csM8DZYEqk6"
      },
      "outputs": [],
      "source": [
        "import jax\n",
        "from jax import numpy as jnp, random\n",
        "\n",
        "import numpy as np # We import the standard NumPy library"
      ]
    },
    {
      "cell_type": "markdown",
      "metadata": {
        "id": "Z5BLL6v_JUSI"
      },
      "source": [
        "`jax.numpy` is the NumPy-like API that needs to be imported, and we will also use `jax.random` to generate some data to work on.\n",
        "\n",
        "Let's start by generating some matrices, and then try matrix multiplication."
      ]
    },
    {
      "cell_type": "code",
      "execution_count": 2,
      "metadata": {
        "colab": {
          "base_uri": "https://localhost:8080/"
        },
        "id": "L2HKiLTNJ4Eh",
        "outputId": "38e2f8e4-19cf-4d9a-a40f-c515fdf458e9"
      },
      "outputs": [
        {
          "output_type": "stream",
          "name": "stderr",
          "text": [
            "WARNING:jax._src.lib.xla_bridge:No GPU/TPU found, falling back to CPU. (Set TF_CPP_MIN_LOG_LEVEL=0 and rerun for more info.)\n"
          ]
        },
        {
          "output_type": "execute_result",
          "data": {
            "text/plain": [
              "DeviceArray([[1., 1., 1., 1.],\n",
              "             [1., 1., 1., 1.],\n",
              "             [1., 1., 1., 1.],\n",
              "             [1., 1., 1., 1.]], dtype=float32)"
            ]
          },
          "metadata": {},
          "execution_count": 2
        }
      ],
      "source": [
        "m = jnp.ones((4,4)) # We're generating one 4 by 4 matrix filled with ones.\n",
        "n = jnp.array([[1.0, 2.0, 3.0, 4.0],\n",
        "               [5.0, 6.0, 7.0, 8.0]]) # An explicit 2 by 4 array\n",
        "m"
      ]
    },
    {
      "cell_type": "markdown",
      "metadata": {
        "id": "NKFtn4d_Nu07"
      },
      "source": [
        "Arrays in JAX are represented as DeviceArray instances and are agnostic to the place where the array lives (CPU, GPU, or TPU). This is why we're getting the warning that no GPU/TPU was found and JAX is falling back to a CPU (unless you're running it in an environment that has a GPU/TPU available).\n",
        "\n",
        "We can obviously multiply matrices like we would do in NumPy."
      ]
    },
    {
      "cell_type": "code",
      "execution_count": 3,
      "metadata": {
        "colab": {
          "base_uri": "https://localhost:8080/"
        },
        "id": "9do-ZRGaRThn",
        "outputId": "052dcee9-f892-48e9-ec65-e1ae1d2c28c9"
      },
      "outputs": [
        {
          "output_type": "execute_result",
          "data": {
            "text/plain": [
              "DeviceArray([[10., 10., 10., 10.],\n",
              "             [26., 26., 26., 26.]], dtype=float32)"
            ]
          },
          "metadata": {},
          "execution_count": 3
        }
      ],
      "source": [
        "jnp.dot(n, m).block_until_ready() # Note: yields the same result as np.dot(m)"
      ]
    },
    {
      "cell_type": "markdown",
      "metadata": {
        "id": "Jkyt5xXpRidn"
      },
      "source": [
        "DeviceArray instances are actually futures ([more here](https://jax.readthedocs.io/en/latest/async_dispatch.html)) due to the **default asynchronous execution** in JAX. For that reason, the Python call might return before the computation actually ends, hence we're using the `block_until_ready()` method to ensure we return the end result.\n",
        "\n",
        "JAX is fully compatible with NumPy, and can transparently process arrays from one library to the other."
      ]
    },
    {
      "cell_type": "code",
      "execution_count": 4,
      "metadata": {
        "colab": {
          "base_uri": "https://localhost:8080/"
        },
        "id": "hFthGlHoRZ59",
        "outputId": "e5db557f-02d2-47a4-fbb2-7aa6f32e4314"
      },
      "outputs": [
        {
          "output_type": "execute_result",
          "data": {
            "text/plain": [
              "DeviceArray([[ 1.7682319,  1.7682319,  1.7682319,  1.7682319],\n",
              "             [ 1.6213435,  1.6213435,  1.6213435,  1.6213435],\n",
              "             [ 0.1462785,  0.1462785,  0.1462785,  0.1462785],\n",
              "             [-1.5307776, -1.5307776, -1.5307776, -1.5307776]],            dtype=float32)"
            ]
          },
          "metadata": {},
          "execution_count": 4
        }
      ],
      "source": [
        "x = np.random.normal(size=(4,4)) # Creating one standard NumPy array instance\n",
        "jnp.dot(x,m)"
      ]
    },
    {
      "cell_type": "markdown",
      "metadata": {
        "id": "AoaA-FS2XpsC"
      },
      "source": [
        "If you're using accelerators, using NumPy arrays directly will result in multiple transfers from CPU to GPU/TPU memory. You can save that transfer bandwidth, either by creating directly a DeviceArray or by using `jax.device_put` on the NumPy array. With DeviceArrays, computation is done on device so no additional data transfer is required, e.g. `jnp.dot(long_vector, long_vector)` will only transfer a single scalar (result of the computation) back from device to host."
      ]
    },
    {
      "cell_type": "code",
      "execution_count": 5,
      "metadata": {
        "colab": {
          "base_uri": "https://localhost:8080/"
        },
        "id": "-VABtdIwTFfN",
        "outputId": "7e45bcb6-74bb-4f13-bd05-44246effc0fc"
      },
      "outputs": [
        {
          "output_type": "execute_result",
          "data": {
            "text/plain": [
              "DeviceArray([[ 0.02781512, -0.29367197, -0.34633833,  0.15921946],\n",
              "             [ 0.23437494, -0.00411367, -0.69849813, -0.13652803],\n",
              "             [ 0.39521793,  1.7251863 ,  0.26290035, -1.1525153 ],\n",
              "             [ 1.3236767 ,  0.48442686,  0.54258597,  1.3451277 ]],            dtype=float32)"
            ]
          },
          "metadata": {},
          "execution_count": 5
        }
      ],
      "source": [
        "x = np.random.normal(size=(4,4))\n",
        "x = jax.device_put(x)\n",
        "x"
      ]
    },
    {
      "cell_type": "markdown",
      "metadata": {
        "id": "y_2QavY1tR8j"
      },
      "source": [
        "Conversely, if you want to get back a Numpy array from a JAX array, you can simply do so by using it in the Numpy API."
      ]
    },
    {
      "cell_type": "code",
      "execution_count": 6,
      "metadata": {
        "colab": {
          "base_uri": "https://localhost:8080/"
        },
        "id": "vEJ1mSvStjEC",
        "outputId": "fd820b93-e987-4942-d87e-dc7c280759c7"
      },
      "outputs": [
        {
          "output_type": "execute_result",
          "data": {
            "text/plain": [
              "array([[1., 2., 3., 4.],\n",
              "       [5., 6., 7., 8.]], dtype=float32)"
            ]
          },
          "metadata": {},
          "execution_count": 6
        }
      ],
      "source": [
        "x = jnp.array([[1.0, 2.0, 3.0, 4.0],\n",
        "               [5.0, 6.0, 7.0, 8.0]])\n",
        "np.array(x)"
      ]
    },
    {
      "cell_type": "markdown",
      "metadata": {
        "id": "CBHVd3GTpLKD"
      },
      "source": [
        "## (Im)mutability\n",
        "JAX is functional by essence, one practical consequence being that JAX arrays are immutable. This means no in-place ops and sliced assignments. More generally, functions should not take input or produce output using a global state."
      ]
    },
    {
      "cell_type": "code",
      "execution_count": 7,
      "metadata": {
        "colab": {
          "base_uri": "https://localhost:8080/"
        },
        "id": "-erZrgZXawFW",
        "outputId": "6b142b28-d9ae-45ed-94d2-49a7478dce9a"
      },
      "outputs": [
        {
          "output_type": "stream",
          "name": "stdout",
          "text": [
            "x: \n",
            " [[1. 2. 3. 4.]\n",
            " [5. 6. 7. 8.]]\n",
            "updated: \n",
            " [[3. 2. 3. 4.]\n",
            " [5. 6. 7. 8.]]\n"
          ]
        }
      ],
      "source": [
        "x = jnp.array([[1.0, 2.0, 3.0, 4.0],\n",
        "               [5.0, 6.0, 7.0, 8.0]])\n",
        "updated = x.at[0, 0].set(3.0) # whereas x[0,0] = 3.0 would fail\n",
        "print(\"x: \\n\", x) # Note that x didn't change, no in-place mutation.\n",
        "print(\"updated: \\n\", updated)"
      ]
    },
    {
      "cell_type": "code",
      "source": [
        "x.at"
      ],
      "metadata": {
        "colab": {
          "base_uri": "https://localhost:8080/"
        },
        "id": "HkDLnKXTEDoz",
        "outputId": "620d58c0-a18f-45fc-9ce0-f050ce8caa1e"
      },
      "execution_count": 8,
      "outputs": [
        {
          "output_type": "execute_result",
          "data": {
            "text/plain": [
              "_IndexUpdateHelper(DeviceArray([[1., 2., 3., 4.],\n",
              "             [5., 6., 7., 8.]], dtype=float32))"
            ]
          },
          "metadata": {},
          "execution_count": 8
        }
      ]
    },
    {
      "cell_type": "markdown",
      "metadata": {
        "id": "Sz_9b-XUTjjl"
      },
      "source": [
        "All jax ops are available with this syntax, including: `set`, `add`, `mul`, `min`, `max`."
      ]
    },
    {
      "cell_type": "markdown",
      "metadata": {
        "id": "o8QGdusyzbmP"
      },
      "source": [
        "## Managing randomness\n",
        "In JAX, randomness is managed in a very specific way, and you can read more on JAX's docs [here](https://jax.readthedocs.io/en/latest/notebooks/Common_Gotchas_in_JAX.html#random-numbers) and [here](https://jax.readthedocs.io/en/latest/jax-101/05-random-numbers.html) (we borrow content from there!). As the JAX team puts it:\n",
        "\n",
        "*JAX implements an explicit PRNG where entropy production and consumption are handled by explicitly passing and iterating a PRNG state. JAX uses a modern Threefry counter-based PRNG that’s splittable. That is, its design allows us to fork the PRNG state into new PRNGs for use with parallel stochastic generation.*\n",
        "\n",
        "In short, you need to explicitly manage the PRNGs (pseudo random number generators) and their states. In JAX's PRNGs, the state is represented as a pair of two unsigned-int32s that is called a key (there is no special meaning to the two unsigned int32s -- it's just a way of representing a uint64)."
      ]
    },
    {
      "cell_type": "code",
      "execution_count": 10,
      "metadata": {
        "colab": {
          "base_uri": "https://localhost:8080/"
        },
        "id": "8iz9KGF4s7nN",
        "outputId": "93fad02c-14a3-4443-b8c8-e1e58b7531d5"
      },
      "outputs": [
        {
          "output_type": "execute_result",
          "data": {
            "text/plain": [
              "DeviceArray([0, 0], dtype=uint32)"
            ]
          },
          "metadata": {},
          "execution_count": 10
        }
      ],
      "source": [
        "key = random.PRNGKey(0)\n",
        "key"
      ]
    },
    {
      "cell_type": "markdown",
      "metadata": {
        "id": "1y622foIaYjL"
      },
      "source": [
        "If you use this key multiple times, you'll get the same \"random\" output each time. To generate further entries in the sequence, you'll need to split the PRNG and thus generate a new pair of keys."
      ]
    },
    {
      "cell_type": "code",
      "execution_count": 11,
      "metadata": {
        "vscode": {
          "languageId": "python"
        },
        "colab": {
          "base_uri": "https://localhost:8080/"
        },
        "id": "zWUvjn-dC8Zq",
        "outputId": "c3439073-ea59-4b5c-b68f-0b102e636f38"
      },
      "outputs": [
        {
          "output_type": "stream",
          "name": "stdout",
          "text": [
            "Printing the random number using key:  [0 0]  gives:  [-0.20584226]\n",
            "Printing the random number using key:  [0 0]  gives:  [-0.20584226]\n",
            "Printing the random number using key:  [0 0]  gives:  [-0.20584226]\n"
          ]
        }
      ],
      "source": [
        "for i in range(3):\n",
        "    print(\"Printing the random number using key: \", key, \" gives: \", random.normal(key,shape=(1,))) # Boringly not that random since we use the same key"
      ]
    },
    {
      "cell_type": "code",
      "execution_count": 12,
      "metadata": {
        "colab": {
          "base_uri": "https://localhost:8080/"
        },
        "id": "lOBv5CaB3dMa",
        "outputId": "5d511ded-92ec-4943-fc21-af20fa5ce76b"
      },
      "outputs": [
        {
          "output_type": "stream",
          "name": "stdout",
          "text": [
            "old key [0 0] --> normal [-0.20584226]\n",
            "    \\---SPLIT --> new key    [4146024105  967050713] --> normal [0.14389051]\n",
            "             \\--> new subkey [2718843009 1272950319] --> normal [-1.2515389]\n"
          ]
        }
      ],
      "source": [
        "print(\"old key\", key, \"--> normal\", random.normal(key, shape=(1,)))\n",
        "key, subkey = random.split(key)\n",
        "print(\"    \\---SPLIT --> new key   \", key, \"--> normal\", random.normal(key, shape=(1,)) )\n",
        "print(\"             \\--> new subkey\", subkey, \"--> normal\", random.normal(subkey, shape=(1,)) )"
      ]
    },
    {
      "cell_type": "markdown",
      "metadata": {
        "id": "QgCCZtyQ4EqA"
      },
      "source": [
        "You can also generate multiple subkeys at once if needed:"
      ]
    },
    {
      "cell_type": "code",
      "execution_count": 13,
      "metadata": {
        "colab": {
          "base_uri": "https://localhost:8080/"
        },
        "id": "G3zRojMs4Cce",
        "outputId": "e1fede6d-32f3-4ea6-eb05-de6561bd05f5"
      },
      "outputs": [
        {
          "output_type": "execute_result",
          "data": {
            "text/plain": [
              "(DeviceArray([3306097435, 3899823266], dtype=uint32),\n",
              " [DeviceArray([147607341, 367236428], dtype=uint32),\n",
              "  DeviceArray([2280136339, 1907318301], dtype=uint32),\n",
              "  DeviceArray([ 781391491, 1939998335], dtype=uint32)])"
            ]
          },
          "metadata": {},
          "execution_count": 13
        }
      ],
      "source": [
        "key, *subkeys = random.split(key, 4)\n",
        "key, subkeys"
      ]
    },
    {
      "cell_type": "markdown",
      "metadata": {
        "id": "20lC7np5YKDq"
      },
      "source": [
        "You can think about those PRNGs as trees of keys that match the structure of your models, which is important for reproducibility and soundness of the random behavior that you expect."
      ]
    },
    {
      "cell_type": "markdown",
      "metadata": {
        "id": "GC6-1gq1YsgZ"
      },
      "source": [
        "## Gradients and autodiff\n",
        "\n",
        "For a full overview of JAX's automatic differentiation system, you can check the [Autodiff Cookbook](https://jax.readthedocs.io/en/latest/notebooks/autodiff_cookbook.html).\n",
        "\n",
        "Even though, theoretically, a VJP (Vector-Jacobian product - reverse autodiff) and a JVP (Jacobian-Vector product - forward-mode autodiff) are similar—they compute a product of a Jacobian and a vector—they differ by the computational complexity of the operation. In short, when you have a large number of parameters (hence a wide matrix), a JVP is less efficient computationally than a VJP, and, conversely, a JVP is more efficient when the Jacobian matrix is a tall matrix. You can read more in the JAX [cookbook](https://jax.readthedocs.io/en/latest/notebooks/autodiff_cookbook.html#jacobian-vector-products-jvps-aka-forward-mode-autodiff) [notebook](https://jax.readthedocs.io/en/latest/notebooks/autodiff_cookbook.html#vector-jacobian-products-vjps-aka-reverse-mode-autodiff) mentioned above."
      ]
    },
    {
      "cell_type": "markdown",
      "metadata": {
        "id": "CUFwVnn4011l"
      },
      "source": [
        "### Gradients\n",
        "\n",
        "JAX provides first-class support for gradients and automatic differentiation in functions. This is also where the functional paradigm shines, since gradients on functions are essentially stateless operations. If we consider a simple function $f:\\mathbb{R}^n\\rightarrow\\mathbb{R}$\n",
        "\n",
        "$$f(x) = \\frac{1}{2} x^T x$$\n",
        "\n",
        "with the (known) gradient:\n",
        "\n",
        "$$\\nabla f(x) = x$$"
      ]
    },
    {
      "cell_type": "code",
      "execution_count": 14,
      "metadata": {
        "colab": {
          "base_uri": "https://localhost:8080/"
        },
        "id": "zDOydrLMcIzp",
        "outputId": "ed5f5468-0f5f-4215-d4d5-5185c23b9724"
      },
      "outputs": [
        {
          "output_type": "execute_result",
          "data": {
            "text/plain": [
              "DeviceArray(2., dtype=float32)"
            ]
          },
          "metadata": {},
          "execution_count": 14
        }
      ],
      "source": [
        "key = random.PRNGKey(0)\n",
        "def f(x):\n",
        "  return jnp.dot(x.T,x)/2.0\n",
        "\n",
        "v = jnp.ones((4,))\n",
        "f(v)"
      ]
    },
    {
      "cell_type": "code",
      "source": [],
      "metadata": {
        "id": "5oMrcVXWE5vw"
      },
      "execution_count": null,
      "outputs": []
    },
    {
      "cell_type": "markdown",
      "metadata": {
        "id": "zVaiZplShoBK"
      },
      "source": [
        "JAX computes the gradient as an operator acting on functions with `jax.grad`. Note that this only works for scalar valued functions.\n",
        "\n",
        "Let's take the gradient of f and make sure it matches the identity map."
      ]
    },
    {
      "cell_type": "code",
      "execution_count": 15,
      "metadata": {
        "colab": {
          "base_uri": "https://localhost:8080/"
        },
        "id": "ael3pVHmhhTs",
        "outputId": "5088d23e-6f7e-4d34-cd38-215a806107a8"
      },
      "outputs": [
        {
          "output_type": "stream",
          "name": "stdout",
          "text": [
            "Original v:\n",
            "[ 1.8160863  -0.75488514  0.33988908 -0.53483534]\n",
            "Gradient of f taken at point v\n",
            "[ 1.8160863  -0.75488514  0.33988908 -0.53483534]\n"
          ]
        }
      ],
      "source": [
        "v = random.normal(key,(4,))\n",
        "print(\"Original v:\")\n",
        "print(v)\n",
        "print(\"Gradient of f taken at point v\")\n",
        "print(jax.grad(f)(v)) # should be equal to v !"
      ]
    },
    {
      "cell_type": "markdown",
      "metadata": {
        "id": "UHIMfchIiQMR"
      },
      "source": [
        "As previously mentioned, `jax.grad` only works for scalar-valued functions. JAX can also handle general vector valued functions. The most useful primitives are a Jacobian-Vector product - `jax.jvp` - and a Vector-Jacobian product - `jax.vjp`.\n",
        "\n",
        "### Jacobian-Vector product\n",
        "\n",
        "Let's consider a map $f:\\mathbb{R}^n\\rightarrow\\mathbb{R}^m$. As a reminder, the differential of f is the map $df:\\mathbb{R}^n \\rightarrow \\mathcal{L}(\\mathbb{R}^n,\\mathbb{R}^m)$ where $\\mathcal{L}(\\mathbb{R}^n,\\mathbb{R}^m)$ is the space of linear maps from $\\mathbb{R}^n$ to $\\mathbb{R}^m$ (hence $df(x)$ is often represented as a Jacobian matrix). The linear approximation of f at point $x$ reads:\n",
        "\n",
        "$$f(x+v) = f(x) + df(x)\\bullet v + o(v)$$\n",
        "\n",
        "The $\\bullet$ operator means you are applying the linear map $df(x)$ to the vector v.\n",
        "\n",
        "Even though you are rarely interested in computing the full Jacobian matrix representing the linear map $df(x)$ in a standard basis, you are often interested in the quantity $df(x)\\bullet v$. This is exactly what `jax.jvp` is for, and `jax.jvp(f, (x,), (v,))` returns the tuple:\n",
        "\n",
        "$$(f(x), df(x)\\bullet v)$$"
      ]
    },
    {
      "cell_type": "code",
      "source": [],
      "metadata": {
        "id": "mONHPkMdMAgb"
      },
      "execution_count": null,
      "outputs": []
    },
    {
      "cell_type": "markdown",
      "metadata": {
        "id": "F5nI_gbeqj2y"
      },
      "source": [
        "Let's use a simple function as an example: $f(x) = \\frac{1}{2}({x_1}^2, {x_2}^2, \\ldots, {x_n}^2)$ where we know that $df(x)\\bullet h = (x_1h_1, x_2h_2,\\ldots,x_nh_n)$. Hence using `jax.jvp` with $h= (1,1,\\ldots,1)$ should return $x$ as an output."
      ]
    },
    {
      "cell_type": "code",
      "execution_count": 16,
      "metadata": {
        "colab": {
          "base_uri": "https://localhost:8080/"
        },
        "id": "Q2ntaHBeh-5u",
        "outputId": "d3184918-be9d-4bae-8c2b-4a8250520de1"
      },
      "outputs": [
        {
          "output_type": "stream",
          "name": "stdout",
          "text": [
            "(x,f(x))\n",
            "(DeviceArray([ 0.18784384, -1.2833426 , -0.2710917 ,  1.2490594 ,\n",
            "              0.24447003], dtype=float32), DeviceArray([0.01764265, 0.8234841 , 0.03674535, 0.7800747 , 0.0298828 ],            dtype=float32))\n",
            "jax.jvp(f, (x,),(v,))\n",
            "(DeviceArray([0.01764265, 0.8234841 , 0.03674535, 0.7800747 , 0.0298828 ],            dtype=float32), DeviceArray([ 0.18784384, -1.2833426 , -0.2710917 ,  1.2490594 ,\n",
            "              0.24447003], dtype=float32))\n"
          ]
        }
      ],
      "source": [
        "def f(x):\n",
        "  return jnp.multiply(x,x)/2.0\n",
        "\n",
        "x = random.normal(key, (5,))\n",
        "v = jnp.ones(5)\n",
        "print(\"(x,f(x))\")\n",
        "print((x,f(x)))\n",
        "print(\"jax.jvp(f, (x,),(v,))\")\n",
        "print(jax.jvp(f, (x,),(v,)))"
      ]
    },
    {
      "cell_type": "markdown",
      "metadata": {
        "id": "gdm_TTDLal_X"
      },
      "source": [
        "### Vector-Jacobian product\n",
        "Keeping our $f:\\mathbb{R}^n\\rightarrow\\mathbb{R}^m$ it's often the case (for example, when you are working with a scalar loss function) that you are interested in the composition $x\\rightarrow\\phi\\circ f(x)$ where $\\phi :\\mathbb{R}^m\\rightarrow\\mathbb{R}$. In that case, the gradient reads:\n",
        "\n",
        "$$\\nabla(\\phi\\circ f)(x) = J_f(x)^T\\nabla\\phi(f(x))$$\n",
        "\n",
        "Where $J_f(x)$ is the Jacobian matrix of f evaluated at x, meaning that $df(x)\\bullet v = J_f(x)v$.\n",
        "\n",
        "`jax.vjp(f,x)` returns the tuple:\n",
        "\n",
        "$$(f(x),v\\rightarrow v^TJ_f(x))$$\n",
        "\n",
        "Keeping the same example as previously, using $v=(1,\\ldots,1)$, applying the VJP function returned by JAX should return the $x$ value:"
      ]
    },
    {
      "cell_type": "code",
      "execution_count": 17,
      "metadata": {
        "colab": {
          "base_uri": "https://localhost:8080/"
        },
        "id": "_1VTl9zXqsFl",
        "outputId": "4ca48351-0917-4422-8cb1-a3949c94f455"
      },
      "outputs": [
        {
          "output_type": "stream",
          "name": "stdout",
          "text": [
            "x =  [ 0.18784384 -1.2833426  -0.2710917   1.2490594   0.24447003]\n",
            "v^T Jf(x) =  [ 0.18784384 -1.2833426  -0.2710917   1.2490594   0.24447003]\n"
          ]
        }
      ],
      "source": [
        "(val, jvp_fun) = jax.vjp(f,x)\n",
        "print(\"x = \", x)\n",
        "print(\"v^T Jf(x) = \", jvp_fun(jnp.ones((5,)))[0])"
      ]
    },
    {
      "cell_type": "markdown",
      "metadata": {
        "id": "2v1Uq_XlzRZS"
      },
      "source": [
        "## Accelerating code with jit & ops vectorization\n",
        "We borrow the following example from the [JAX quickstart](https://jax.readthedocs.io/en/latest/notebooks/quickstart.html).\n",
        "\n",
        "---"
      ]
    },
    {
      "cell_type": "markdown",
      "metadata": {
        "id": "kF04t9L71dhH"
      },
      "source": [
        "### Jit\n",
        "\n",
        "JAX uses the XLA compiler under the hood, and enables you to jit compile your code to make it faster and more efficient. This is the purpose of the @jit annotation."
      ]
    },
    {
      "cell_type": "code",
      "execution_count": 18,
      "metadata": {
        "colab": {
          "base_uri": "https://localhost:8080/"
        },
        "id": "D6p_wQ9xeIiu",
        "outputId": "88670eba-87a6-4f70-d492-680db6ad503a"
      },
      "outputs": [
        {
          "output_type": "stream",
          "name": "stdout",
          "text": [
            "4.99 ms ± 188 µs per loop (mean ± std. dev. of 7 runs, 100 loops each)\n"
          ]
        }
      ],
      "source": [
        "def selu(x, alpha=1.67, lmbda=1.05):\n",
        "  return lmbda * jnp.where(x > 0, x, alpha * jnp.exp(x) - alpha)\n",
        "\n",
        "v = random.normal(key, (1000000,))\n",
        "%timeit selu(v).block_until_ready()"
      ]
    },
    {
      "cell_type": "markdown",
      "metadata": {
        "id": "Nk9LVX580j6M"
      },
      "source": [
        "Now using the jit annotation (or function here) to speed things up:"
      ]
    },
    {
      "cell_type": "code",
      "execution_count": null,
      "metadata": {
        "colab": {
          "base_uri": "https://localhost:8080/"
        },
        "id": "us5pWySG0jWL",
        "outputId": "e8ff3b7b-3917-40fc-8f29-eb9e6df262e5"
      },
      "outputs": [
        {
          "name": "stdout",
          "output_type": "stream",
          "text": [
            "405 µs ± 32.3 µs per loop (mean ± std. dev. of 7 runs, 1000 loops each)\n"
          ]
        }
      ],
      "source": [
        "selu_jit = jax.jit(selu)\n",
        "%timeit selu_jit(v).block_until_ready()"
      ]
    },
    {
      "cell_type": "markdown",
      "metadata": {
        "id": "6kQyCgo407oF"
      },
      "source": [
        "jit compilation can be used along with autodiff in the code transparently.\n",
        "\n",
        "---\n",
        "### Vectorization\n",
        "\n",
        "Finally, JAX enables you to write code that applies to a single example, and then vectorize it to manage transparently batching dimensions."
      ]
    },
    {
      "cell_type": "code",
      "execution_count": 19,
      "metadata": {
        "colab": {
          "base_uri": "https://localhost:8080/"
        },
        "id": "j-E6MsKF0tmZ",
        "outputId": "b3421112-7e9e-4be8-8268-f4b71649d8e6"
      },
      "outputs": [
        {
          "output_type": "stream",
          "name": "stdout",
          "text": [
            "Single apply shape:  (15,)\n",
            "Batched example shape:  (5, 15)\n"
          ]
        }
      ],
      "source": [
        "mat = random.normal(key, (15, 10))\n",
        "batched_x = random.normal(key, (5, 10)) # Batch size on axis 0\n",
        "single = random.normal(key, (10,))\n",
        "\n",
        "def apply_matrix(v):\n",
        "  return jnp.dot(mat, v)\n",
        "\n",
        "print(\"Single apply shape: \", apply_matrix(single).shape)\n",
        "print(\"Batched example shape: \", jax.vmap(apply_matrix)(batched_x).shape)"
      ]
    },
    {
      "cell_type": "code",
      "source": [],
      "metadata": {
        "id": "92TUhHeHPuQT"
      },
      "execution_count": null,
      "outputs": []
    },
    {
      "cell_type": "markdown",
      "metadata": {
        "id": "S2BcA8wm2_FW"
      },
      "source": [
        "## Full example: linear regression\n",
        "\n",
        "Let's implement one of the simplest models using everything we have seen so far: a linear regression. From a set of data points $\\{(x_i,y_i), i\\in \\{1,\\ldots, k\\}, x_i\\in\\mathbb{R}^n,y_i\\in\\mathbb{R}^m\\}$, we try to find a set of parameters $W\\in \\mathcal{M}_{m,n}(\\mathbb{R}), b\\in\\mathbb{R}^m$ such that the function $f_{W,b}(x)=Wx+b$ minimizes the mean squared error:\n",
        "\n",
        "$$\\mathcal{L}(W,b)\\rightarrow\\frac{1}{k}\\sum_{i=1}^{k} \\frac{1}{2}\\|y_i-f_{W,b}(x_i)\\|^2_2$$\n",
        "\n",
        "(Note: depending on how you cast the regression problem you might end up with different setups. Theoretically we should be minimizing the expectation of the loss wrt to the data distribution, however for the sake of simplicity here we consider only the sampled loss)."
      ]
    },
    {
      "cell_type": "code",
      "execution_count": 20,
      "metadata": {
        "id": "5W9p_zVe2Cj-"
      },
      "outputs": [],
      "source": [
        "# Linear feed-forward.\n",
        "def predict(W, b, x):\n",
        "  return jnp.dot(x, W) + b\n",
        "\n",
        "# Loss function: Mean squared error.\n",
        "def mse(W, b, x_batched, y_batched):\n",
        "  # Define the squared loss for a single pair (x,y)\n",
        "  def squared_error(x, y):\n",
        "    y_pred = predict(W, b, x)\n",
        "    return jnp.inner(y-y_pred, y-y_pred) / 2.0\n",
        "  # We vectorize the previous to compute the average of the loss on all samples.\n",
        "  return jnp.mean(jax.vmap(squared_error)(x_batched, y_batched), axis=0)"
      ]
    },
    {
      "cell_type": "code",
      "execution_count": 22,
      "metadata": {
        "id": "qMkIxjjsduPY",
        "colab": {
          "base_uri": "https://localhost:8080/"
        },
        "outputId": "8115388e-8fcb-48c3-ab95-6a61d9e696a5"
      },
      "outputs": [
        {
          "output_type": "stream",
          "name": "stdout",
          "text": [
            "x shape: (20, 10) ; y shape: (20, 5)\n"
          ]
        }
      ],
      "source": [
        "# Set problem dimensions.\n",
        "n_samples = 20\n",
        "x_dim = 10\n",
        "y_dim = 5\n",
        "\n",
        "# Generate random ground truth W and b.\n",
        "key = random.PRNGKey(0)\n",
        "k1, k2 = random.split(key)\n",
        "W = random.normal(k1, (x_dim, y_dim))\n",
        "b = random.normal(k2, (y_dim,))\n",
        "\n",
        "# Generate samples with additional noise.\n",
        "key_sample, key_noise = random.split(k1)\n",
        "x_samples = random.normal(key_sample, (n_samples, x_dim))\n",
        "y_samples = predict(W, b, x_samples) + 0.1 * random.normal(key_noise,(n_samples, y_dim))\n",
        "print('x shape:', x_samples.shape, '; y shape:', y_samples.shape)"
      ]
    },
    {
      "cell_type": "code",
      "execution_count": 24,
      "metadata": {
        "colab": {
          "base_uri": "https://localhost:8080/"
        },
        "id": "5L2np6wve_xp",
        "outputId": "357c4555-e153-4f19-c8d7-1d0d00a72f1d"
      },
      "outputs": [
        {
          "output_type": "stream",
          "name": "stdout",
          "text": [
            "Loss for \"true\" W,b:  0.023639793\n",
            "Loss step 0:  10.971409\n",
            "Loss step 5:  1.0798324\n",
            "Loss step 10:  0.37958255\n",
            "Loss step 15:  0.17855294\n",
            "Loss step 20:  0.09441521\n",
            "Loss step 25:  0.054522194\n",
            "Loss step 30:  0.03448924\n",
            "Loss step 35:  0.024058027\n",
            "Loss step 40:  0.018480862\n",
            "Loss step 45:  0.015438682\n",
            "Loss step 50:  0.01375394\n",
            "Loss step 55:  0.0128103\n",
            "Loss step 60:  0.012277315\n",
            "Loss step 65:  0.011974388\n",
            "Loss step 70:  0.011801447\n",
            "Loss step 75:  0.011702419\n",
            "Loss step 80:  0.011645544\n",
            "Loss step 85:  0.011612837\n",
            "Loss step 90:  0.011594015\n",
            "Loss step 95:  0.011583163\n",
            "Loss step 100:  0.011576912\n"
          ]
        }
      ],
      "source": [
        "# Initialize estimated W and b with zeros.\n",
        "W_hat = jnp.zeros_like(W)\n",
        "b_hat = jnp.zeros_like(b)\n",
        "\n",
        "# Ensure we jit the largest-possible jittable block.\n",
        "@jax.jit\n",
        "def update_params(W, b, x, y, lr):\n",
        "  W, b = W - lr * jax.grad(mse, 0)(W, b, x, y), b - lr * jax.grad(mse, 1)(W, b, x, y)\n",
        "  return W, b\n",
        "\n",
        "learning_rate = 0.3  # Gradient step size.\n",
        "print('Loss for \"true\" W,b: ', mse(W, b, x_samples, y_samples))\n",
        "for i in range(101):\n",
        "  # Perform one gradient update.\n",
        "  W_hat, b_hat = update_params(W_hat, b_hat, x_samples, y_samples, learning_rate)\n",
        "  if (i % 5 == 0):\n",
        "    print(f\"Loss step {i}: \", mse(W_hat, b_hat, x_samples, y_samples))"
      ]
    },
    {
      "cell_type": "code",
      "source": [
        "W_hat, b_hat"
      ],
      "metadata": {
        "colab": {
          "base_uri": "https://localhost:8080/"
        },
        "id": "-oTAc94ERjZP",
        "outputId": "d3cc1453-6d12-46d5-ce69-717ee7fddac5"
      },
      "execution_count": 25,
      "outputs": [
        {
          "output_type": "execute_result",
          "data": {
            "text/plain": [
              "(DeviceArray([[ 1.0108359 ,  0.19150433,  0.04567149, -0.9264025 ,\n",
              "                0.34663162],\n",
              "              [ 1.7316236 ,  0.98680866,  1.1654156 ,  1.1008006 ,\n",
              "               -0.10455547],\n",
              "              [-1.2008773 ,  0.28867328,  1.4177097 ,  0.12091225,\n",
              "               -1.3133606 ],\n",
              "              [-1.1945884 , -0.19082619,  0.03358762,  1.3160651 ,\n",
              "                0.08011684],\n",
              "              [ 0.14048438,  1.3693622 , -1.3172997 ,  0.53134936,\n",
              "               -2.2379072 ],\n",
              "              [ 0.5639558 ,  0.8106229 ,  0.31816706,  0.53413683,\n",
              "                0.90445185],\n",
              "              [-0.37994525,  1.7369448 ,  1.077865  , -0.5065305 ,\n",
              "                0.93001544],\n",
              "              [ 0.97009695, -1.3161708 ,  0.33623308,  0.8092227 ,\n",
              "               -1.2022684 ],\n",
              "              [ 1.0198433 , -0.6195748 ,  1.0823214 , -1.8384099 ,\n",
              "               -0.45787415],\n",
              "              [-0.64400274,  0.45525494, -1.1334144 , -0.6863139 ,\n",
              "                0.17066488]], dtype=float32),\n",
              " DeviceArray([-1.454179  , -2.0275097 ,  2.0803363 ,  1.2194083 ,\n",
              "              -0.99587744], dtype=float32))"
            ]
          },
          "metadata": {},
          "execution_count": 25
        }
      ]
    },
    {
      "cell_type": "code",
      "source": [
        "W, b"
      ],
      "metadata": {
        "colab": {
          "base_uri": "https://localhost:8080/"
        },
        "id": "noIzg-CzRlzp",
        "outputId": "1942a8a8-420d-4e83-a3bc-94dc2a3b54f7"
      },
      "execution_count": 27,
      "outputs": [
        {
          "output_type": "execute_result",
          "data": {
            "text/plain": [
              "(DeviceArray([[ 1.0247566 ,  0.18528093,  0.03387944, -0.86629736,\n",
              "                0.34718114],\n",
              "              [ 1.7656006 ,  0.99169755,  1.1657897 ,  1.1106981 ,\n",
              "               -0.08589564],\n",
              "              [-1.1820309 ,  0.29050717,  1.436301  ,  0.15073189,\n",
              "               -1.3651401 ],\n",
              "              [-1.1463748 , -0.16064964,  0.04578291,  1.3267074 ,\n",
              "                0.08830649],\n",
              "              [ 0.15840754,  1.3908992 , -1.3764939 ,  0.4419787 ,\n",
              "               -2.2242246 ],\n",
              "              [ 0.5943986 ,  0.8191525 ,  0.32800463,  0.51409715,\n",
              "                0.92392564],\n",
              "              [-0.32272884,  1.7835051 ,  1.0902369 , -0.5799917 ,\n",
              "                0.9487662 ],\n",
              "              [ 0.97157586, -1.2998172 ,  0.3205269 ,  0.806568  ,\n",
              "               -1.1939563 ],\n",
              "              [ 1.001932  , -0.6774013 ,  1.0407888 , -1.8285896 ,\n",
              "               -0.4360311 ],\n",
              "              [-0.62268263,  0.47034723, -1.1581832 , -0.71849173,\n",
              "                0.13199319]], dtype=float32),\n",
              " DeviceArray([-1.4581939, -2.047044 ,  2.0473392,  1.1684095, -0.9758364],            dtype=float32))"
            ]
          },
          "metadata": {},
          "execution_count": 27
        }
      ]
    },
    {
      "cell_type": "markdown",
      "metadata": {
        "id": "bJGKunxNzrxa"
      },
      "source": [
        "This is obviously an approximate solution to the linear regression problem (solving it would require a bit more work!), but here you have all the tools you would need if you wanted to do it the proper way."
      ]
    },
    {
      "cell_type": "markdown",
      "metadata": {
        "id": "bQXmL86aUS9x"
      },
      "source": [
        "## Refining a bit with pytrees\n",
        "\n",
        "Here we're going to elaborate on our previous example using JAX pytree data structure."
      ]
    },
    {
      "cell_type": "markdown",
      "metadata": {
        "id": "zZMUvyCgUzby"
      },
      "source": [
        "### Pytrees basics\n",
        "\n",
        "The JAX ecosystem uses pytrees everywhere and we do as well in Flax (the previous FrozenDict example is one, we'll get back to this). For a complete overview, we suggest that you take a look at the [pytree page](https://jax.readthedocs.io/en/latest/pytrees.html) from JAX's doc:\n",
        "\n",
        "*In JAX, a pytree is a container of leaf elements and/or more pytrees. Containers include lists, tuples, and dicts (JAX can be extended to consider other container types as pytrees, see Extending pytrees below). A leaf element is anything that’s not a pytree, e.g. an array. In other words, a pytree is just a possibly-nested standard or user-registered Python container. If nested, note that the container types do not need to match. A single “leaf”, i.e. a non-container object, is also considered a pytree.*\n",
        "\n",
        "```python\n",
        "[1, \"a\", object()] # 3 leaves: 1, \"a\" and object()\n",
        "\n",
        "(1, (2, 3), ()) # 3 leaves: 1, 2 and 3\n",
        "\n",
        "[1, {\"k1\": 2, \"k2\": (3, 4)}, 5] # 5 leaves: 1, 2, 3, 4, 5\n",
        "```\n",
        "\n",
        "JAX provides a few utilities to work with pytrees that live in the `tree_util` package."
      ]
    },
    {
      "cell_type": "code",
      "execution_count": 28,
      "metadata": {
        "id": "9SNY5eA1UdkJ"
      },
      "outputs": [],
      "source": [
        "from jax import tree_util\n",
        "\n",
        "t = [1, {\"k1\": 2, \"k2\": (3, 4)}, 5]"
      ]
    },
    {
      "cell_type": "markdown",
      "metadata": {
        "id": "LujWjwVQUeea"
      },
      "source": [
        "You will often come across `tree_map` function that maps a function f to a tree and its leaves. We used it in the previous section to display the shapes of the model's parameters."
      ]
    },
    {
      "cell_type": "code",
      "execution_count": 29,
      "metadata": {
        "colab": {
          "base_uri": "https://localhost:8080/"
        },
        "id": "szDhssVBUjTa",
        "outputId": "a94df910-c20b-46ff-da3c-fcda877ded40"
      },
      "outputs": [
        {
          "output_type": "execute_result",
          "data": {
            "text/plain": [
              "[1, {'k1': 4, 'k2': (9, 16)}, 25]"
            ]
          },
          "metadata": {},
          "execution_count": 29
        }
      ],
      "source": [
        "tree_util.tree_map(lambda x: x*x, t)"
      ]
    },
    {
      "cell_type": "markdown",
      "metadata": {
        "id": "3s167WGKUlZ9"
      },
      "source": [
        "Instead of applying a standalone function to each of the tree leaves, you can also provide a tuple of additional trees with similar shape to the input tree that will provide per leaf arguments to the function."
      ]
    },
    {
      "cell_type": "code",
      "execution_count": 30,
      "metadata": {
        "colab": {
          "base_uri": "https://localhost:8080/"
        },
        "id": "bNOYK_E7UnOh",
        "outputId": "23989074-ab1f-4393-bf38-289e88c18056"
      },
      "outputs": [
        {
          "output_type": "execute_result",
          "data": {
            "text/plain": [
              "[2, {'k1': 6, 'k2': (12, 20)}, 30]"
            ]
          },
          "metadata": {},
          "execution_count": 30
        }
      ],
      "source": [
        "t2 = tree_util.tree_map(lambda x: x*x, t)\n",
        "tree_util.tree_map(lambda x,y: x+y, t, t2)"
      ]
    },
    {
      "cell_type": "markdown",
      "metadata": {
        "id": "HnE75pvlVDO5"
      },
      "source": [
        "### Linear regression with Pytrees\n",
        "\n",
        "Whereas our previous example was perfectly fine, we can see that when things get more complicated (as they will with neural networks), it will be harder to manage parameters of the models as we did.\n",
        "\n",
        "Here we show an alternative based on pytrees, using the same data from the previous example.\n",
        "Now, our `params` is a pytree containing both the `W` and `b` entries."
      ]
    },
    {
      "cell_type": "code",
      "execution_count": 31,
      "metadata": {
        "id": "8v8gNkvUVZnl"
      },
      "outputs": [],
      "source": [
        "# Linear feed-forward that takes a params pytree.\n",
        "def predict_pytree(params, x):\n",
        "  return jnp.dot(x, params['W']) + params['b']\n",
        "\n",
        "# Loss function: Mean squared error.\n",
        "def mse_pytree(params, x_batched,y_batched):\n",
        "  # Define the squared loss for a single pair (x,y)\n",
        "  def squared_error(x,y):\n",
        "    y_pred = predict_pytree(params, x)\n",
        "    return jnp.inner(y-y_pred, y-y_pred) / 2.0\n",
        "  # We vectorize the previous to compute the average of the loss on all samples.\n",
        "  return jnp.mean(jax.vmap(squared_error)(x_batched, y_batched), axis=0)\n",
        "\n",
        "# Initialize estimated W and b with zeros. Store in a pytree.\n",
        "params = {'W': jnp.zeros_like(W), 'b': jnp.zeros_like(b)}"
      ]
    },
    {
      "cell_type": "markdown",
      "metadata": {
        "id": "rKP0X8rnWAiA"
      },
      "source": [
        "The great thing is that JAX is able to handle differentiation with respect to pytree parameters:"
      ]
    },
    {
      "cell_type": "code",
      "execution_count": 32,
      "metadata": {
        "colab": {
          "base_uri": "https://localhost:8080/"
        },
        "id": "8zc7cMaiWSny",
        "outputId": "bb48971a-db74-42cb-84d2-de824c09da73"
      },
      "outputs": [
        {
          "output_type": "execute_result",
          "data": {
            "text/plain": [
              "{'W': DeviceArray([[-1.1769423 ,  0.3989312 , -0.89776224,  1.2179708 ,\n",
              "               -0.22526088],\n",
              "              [-1.2351222 , -0.51718676, -1.2093343 , -0.47016153,\n",
              "               -0.14098744],\n",
              "              [ 1.827082  ,  0.4483987 , -2.1687846 , -0.5517593 ,\n",
              "                1.203793  ],\n",
              "              [ 2.4736702 ,  1.1133708 , -0.5650933 , -1.0506654 ,\n",
              "                1.2003354 ],\n",
              "              [ 0.09737855, -1.3749819 ,  2.8142436 , -0.15796325,\n",
              "                1.1032437 ],\n",
              "              [-1.2241135 ,  0.63864124,  0.5638277 , -0.25986353,\n",
              "               -0.6215985 ],\n",
              "              [ 0.13155803, -0.36742553, -2.3217204 ,  1.4004409 ,\n",
              "               -0.86137396],\n",
              "              [-1.200794  ,  2.207632  , -1.83393   , -0.3254988 ,\n",
              "                0.39060327],\n",
              "              [-0.81191564,  0.5818832 , -1.5981957 ,  1.7225316 ,\n",
              "                0.07298005],\n",
              "              [ 0.7984328 ,  0.17107071,  0.7971532 ,  0.5209309 ,\n",
              "               -0.23226593]], dtype=float32),\n",
              " 'b': DeviceArray([ 1.8640181 ,  2.6972404 , -3.1244898 , -1.4062694 ,\n",
              "               0.66766924], dtype=float32)}"
            ]
          },
          "metadata": {},
          "execution_count": 32
        }
      ],
      "source": [
        "jax.grad(mse_pytree)(params, x_samples, y_samples)"
      ]
    },
    {
      "cell_type": "markdown",
      "metadata": {
        "id": "nW1IKnjqXFdN"
      },
      "source": [
        "Now using our tree of params, we can write the gradient descent in a simpler way using `jax.tree_util.tree_map`:"
      ]
    },
    {
      "cell_type": "code",
      "execution_count": 33,
      "metadata": {
        "colab": {
          "base_uri": "https://localhost:8080/"
        },
        "id": "jEntdcDBXBCj",
        "outputId": "76933855-2dd1-417d-dc15-dab37f570444"
      },
      "outputs": [
        {
          "output_type": "stream",
          "name": "stdout",
          "text": [
            "Loss for \"true\" W,b:  0.023639793\n",
            "Loss step 0:  10.971409\n",
            "Loss step 5:  1.0798324\n",
            "Loss step 10:  0.37958255\n",
            "Loss step 15:  0.17855294\n",
            "Loss step 20:  0.09441521\n",
            "Loss step 25:  0.054522194\n",
            "Loss step 30:  0.03448924\n",
            "Loss step 35:  0.024058027\n",
            "Loss step 40:  0.018480862\n",
            "Loss step 45:  0.015438682\n",
            "Loss step 50:  0.01375394\n",
            "Loss step 55:  0.0128103\n",
            "Loss step 60:  0.012277315\n",
            "Loss step 65:  0.011974388\n",
            "Loss step 70:  0.011801447\n",
            "Loss step 75:  0.011702419\n",
            "Loss step 80:  0.011645544\n",
            "Loss step 85:  0.011612837\n",
            "Loss step 90:  0.011594015\n",
            "Loss step 95:  0.011583163\n",
            "Loss step 100:  0.011576912\n"
          ]
        }
      ],
      "source": [
        "# Always remember to jit!\n",
        "@jax.jit\n",
        "def update_params_pytree(params, learning_rate, x_samples, y_samples):\n",
        "  params = jax.tree_util.tree_map(\n",
        "        lambda p, g: p - learning_rate * g, params,\n",
        "        jax.grad(mse_pytree)(params, x_samples, y_samples))\n",
        "  return params\n",
        "\n",
        "learning_rate = 0.3  # Gradient step size.\n",
        "print('Loss for \"true\" W,b: ', mse_pytree({'W': W, 'b': b}, x_samples, y_samples))\n",
        "for i in range(101):\n",
        "  # Perform one gradient update.\n",
        "  params = update_params_pytree(params, learning_rate, x_samples, y_samples)\n",
        "  if (i % 5 == 0):\n",
        "    print(f\"Loss step {i}: \", mse_pytree(params, x_samples, y_samples))"
      ]
    },
    {
      "cell_type": "markdown",
      "metadata": {
        "id": "KBLtWAc6C8Zw"
      },
      "source": [
        "Besides `jax.grad()`, another useful function is `jax.value_and_grad()`, which returns the value of the input function and of its gradient.\n",
        "\n",
        "To switch from `jax.grad()` to `jax.value_and_grad()`, replace the training loop above with the following:"
      ]
    },
    {
      "cell_type": "code",
      "execution_count": null,
      "metadata": {
        "vscode": {
          "languageId": "python"
        },
        "id": "3jD2-Is6C8Zw"
      },
      "outputs": [],
      "source": [
        "# Using jax.value_and_grad instead:\n",
        "loss_grad_fn = jax.value_and_grad(mse_pytree)\n",
        "for i in range(101):\n",
        "  # Note that here the loss is computed before the param update.\n",
        "    loss_val, grads = loss_grad_fn(params, x_samples, y_samples)\n",
        "    params = jax.tree_util.tree_map(\n",
        "        lambda p, g: p - learning_rate * g, params, grads)\n",
        "    if (i % 5 == 0):\n",
        "        print(f\"Loss step {i}: \", loss_val)"
      ]
    },
    {
      "cell_type": "markdown",
      "metadata": {
        "id": "Xh-oo8jFUPNQ"
      },
      "source": [
        "That's all you needed to know to get started with Flax! To dive deeper, we very much recommend checking the JAX [docs](https://jax.readthedocs.io/en/latest/index.html)."
      ]
    }
  ],
  "metadata": {
    "colab": {
      "name": "JAX for the impatient.ipynb",
      "provenance": [],
      "toc_visible": true,
      "include_colab_link": true
    },
    "jupytext": {
      "formats": "ipynb,md:myst",
      "main_language": "python"
    },
    "kernelspec": {
      "display_name": "Python 3",
      "name": "python3"
    }
  },
  "nbformat": 4,
  "nbformat_minor": 0
}
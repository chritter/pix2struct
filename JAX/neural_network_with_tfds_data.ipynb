{
 "cells": [
  {
   "cell_type": "markdown",
   "metadata": {
    "id": "18AF5Ab4p6VL"
   },
   "source": [
    "**Copyright 2018 The JAX Authors.**\n",
    "\n",
    "Licensed under the Apache License, Version 2.0 (the \"License\");"
   ]
  },
  {
   "cell_type": "markdown",
   "metadata": {
    "id": "crfqaJOyp8bq"
   },
   "source": [
    "Licensed under the Apache License, Version 2.0 (the \"License\");\n",
    "you may not use this file except in compliance with the License.\n",
    "You may obtain a copy of the License at\n",
    "\n",
    "https://www.apache.org/licenses/LICENSE-2.0\n",
    "\n",
    "Unless required by applicable law or agreed to in writing, software\n",
    "distributed under the License is distributed on an \"AS IS\" BASIS,\n",
    "WITHOUT WARRANTIES OR CONDITIONS OF ANY KIND, either express or implied.\n",
    "See the License for the specific language governing permissions and\n",
    "limitations under the License."
   ]
  },
  {
   "cell_type": "markdown",
   "metadata": {
    "id": "B_XlLLpcWjkA"
   },
   "source": [
    "# Training a Simple Neural Network, with tensorflow/datasets Data Loading\n",
    "\n",
    "[![Open in Colab](https://colab.research.google.com/assets/colab-badge.svg)](https://colab.research.google.com/github/google/jax/blob/main/docs/notebooks/neural_network_with_tfds_data.ipynb)\n",
    "\n",
    "_Forked from_ `neural_network_and_data_loading.ipynb`\n",
    "\n",
    "![JAX](https://raw.githubusercontent.com/google/jax/main/images/jax_logo_250px.png)\n",
    "\n",
    "Let's combine everything we showed in the [quickstart notebook](https://jax.readthedocs.io/en/latest/notebooks/quickstart.html) to train a simple neural network. We will first specify and train a simple MLP on MNIST using JAX for the computation. We will use `tensorflow/datasets` data loading API to load images and labels (because it's pretty great, and the world doesn't need yet another data loading library :P).\n",
    "\n",
    "Of course, you can use JAX with any API that is compatible with NumPy to make specifying the model a bit more plug-and-play. Here, just for explanatory purposes, we won't use any neural network libraries or special APIs for building our model."
   ]
  },
  {
   "cell_type": "code",
   "execution_count": 15,
   "metadata": {
    "execution": {
     "iopub.execute_input": "2023-01-10T01:58:05.547503Z",
     "iopub.status.busy": "2023-01-10T01:58:05.547119Z",
     "iopub.status.idle": "2023-01-10T01:58:05.551933Z",
     "shell.execute_reply": "2023-01-10T01:58:05.551183Z",
     "shell.execute_reply.started": "2023-01-10T01:58:05.547476Z"
    },
    "id": "OksHydJDtbbI"
   },
   "outputs": [],
   "source": [
    "import jax.numpy as jnp\n",
    "from jax import grad, jit, vmap\n",
    "from jax import random\n",
    "import jax"
   ]
  },
  {
   "cell_type": "code",
   "execution_count": 14,
   "metadata": {
    "execution": {
     "iopub.execute_input": "2023-01-10T01:55:37.766431Z",
     "iopub.status.busy": "2023-01-10T01:55:37.765982Z",
     "iopub.status.idle": "2023-01-10T01:55:37.777275Z",
     "shell.execute_reply": "2023-01-10T01:55:37.776287Z",
     "shell.execute_reply.started": "2023-01-10T01:55:37.766405Z"
    }
   },
   "outputs": [
    {
     "data": {
      "text/plain": [
       "'gpu'"
      ]
     },
     "execution_count": 14,
     "metadata": {},
     "output_type": "execute_result"
    }
   ],
   "source": [
    "jax.default_backend()"
   ]
  },
  {
   "cell_type": "markdown",
   "metadata": {
    "id": "MTVcKi-ZYB3R"
   },
   "source": [
    "## Hyperparameters\n",
    "Let's get a few bookkeeping items out of the way."
   ]
  },
  {
   "cell_type": "markdown",
   "metadata": {},
   "source": [
    "Why not used jnp operations here?"
   ]
  },
  {
   "cell_type": "code",
   "execution_count": 4,
   "metadata": {
    "execution": {
     "iopub.execute_input": "2023-01-10T01:06:35.897780Z",
     "iopub.status.busy": "2023-01-10T01:06:35.897404Z",
     "iopub.status.idle": "2023-01-10T01:06:40.013541Z",
     "shell.execute_reply": "2023-01-10T01:06:40.012712Z",
     "shell.execute_reply.started": "2023-01-10T01:06:35.897748Z"
    },
    "id": "-fmWA06xYE7d",
    "outputId": "520e5fd5-97c4-43eb-ef0e-b714d5287689"
   },
   "outputs": [],
   "source": [
    "# A helper function to randomly initialize weights and biases\n",
    "# for a dense neural network layer\n",
    "def random_layer_params(m, n, key, scale=1e-2):\n",
    "  w_key, b_key = random.split(key) # key: a PRNG key used as the random key.\n",
    "  return scale * random.normal(w_key, (n, m)), scale * random.normal(b_key, (n,))\n",
    "\n",
    "# Initialize all layers for a fully-connected neural network with sizes \"sizes\"\n",
    "def init_network_params(sizes, key):\n",
    "  keys = random.split(key, len(sizes))\n",
    "  return [random_layer_params(m, n, k) for m, n, k in zip(sizes[:-1], sizes[1:], keys)]\n",
    "\n",
    "layer_sizes = [784, 256, 128, 10]\n",
    "step_size = 0.01\n",
    "num_epochs = 10\n",
    "batch_size = 128\n",
    "n_targets = 10\n",
    "params = init_network_params(layer_sizes, random.PRNGKey(0))"
   ]
  },
  {
   "cell_type": "code",
   "execution_count": 19,
   "metadata": {
    "execution": {
     "iopub.execute_input": "2023-01-10T01:59:14.077170Z",
     "iopub.status.busy": "2023-01-10T01:59:14.076817Z",
     "iopub.status.idle": "2023-01-10T01:59:14.088103Z",
     "shell.execute_reply": "2023-01-10T01:59:14.087223Z",
     "shell.execute_reply.started": "2023-01-10T01:59:14.077146Z"
    }
   },
   "outputs": [
    {
     "data": {
      "text/plain": [
       "(256, 784)"
      ]
     },
     "execution_count": 19,
     "metadata": {},
     "output_type": "execute_result"
    }
   ],
   "source": [
    "params[0][0].shape"
   ]
  },
  {
   "cell_type": "markdown",
   "metadata": {
    "id": "BtoNk_yxWtIw"
   },
   "source": [
    "## Auto-batching predictions\n",
    "\n",
    "Let us first define our prediction function. Note that we're defining this for a _single_ image example. We're going to use JAX's `vmap` function to automatically handle mini-batches, with no performance penalty."
   ]
  },
  {
   "cell_type": "code",
   "execution_count": 5,
   "metadata": {
    "execution": {
     "iopub.execute_input": "2023-01-10T01:06:51.533385Z",
     "iopub.status.busy": "2023-01-10T01:06:51.532779Z",
     "iopub.status.idle": "2023-01-10T01:06:51.538212Z",
     "shell.execute_reply": "2023-01-10T01:06:51.536796Z",
     "shell.execute_reply.started": "2023-01-10T01:06:51.533357Z"
    }
   },
   "outputs": [],
   "source": [
    "import tensorflow as tf"
   ]
  },
  {
   "cell_type": "code",
   "execution_count": 6,
   "metadata": {
    "execution": {
     "iopub.execute_input": "2023-01-10T01:06:51.984541Z",
     "iopub.status.busy": "2023-01-10T01:06:51.984088Z",
     "iopub.status.idle": "2023-01-10T01:06:51.992125Z",
     "shell.execute_reply": "2023-01-10T01:06:51.990577Z",
     "shell.execute_reply.started": "2023-01-10T01:06:51.984508Z"
    },
    "id": "7APc6tD7TiuZ"
   },
   "outputs": [],
   "source": [
    "from jax.scipy.special import logsumexp\n",
    "\n",
    "def relu(x):\n",
    "  return jnp.maximum(0, x)\n",
    "\n",
    "def predict(params, image):\n",
    "  # per-example predictions\n",
    "  activations = image\n",
    "  for w, b in params[:-1]:\n",
    "    outputs = jnp.dot(w, activations) + b\n",
    "    activations = relu(outputs)\n",
    "  \n",
    "  final_w, final_b = params[-1]\n",
    "  logits = jnp.dot(final_w, activations) + final_b\n",
    "  return logits - logsumexp(logits) # log(exp(a1)) - log(sum(exp(a1) + exp(a2)))  = - log(exp(a1)/sum(exp))"
   ]
  },
  {
   "cell_type": "markdown",
   "metadata": {
    "id": "dRW_TvCTWgaP"
   },
   "source": [
    "Let's check that our prediction function only works on single images."
   ]
  },
  {
   "cell_type": "code",
   "execution_count": 7,
   "metadata": {
    "execution": {
     "iopub.execute_input": "2023-01-10T01:06:54.310533Z",
     "iopub.status.busy": "2023-01-10T01:06:54.310189Z",
     "iopub.status.idle": "2023-01-10T01:06:56.132977Z",
     "shell.execute_reply": "2023-01-10T01:06:56.132017Z",
     "shell.execute_reply.started": "2023-01-10T01:06:54.310508Z"
    },
    "id": "4sW2A5mnXHc5",
    "outputId": "ce9d86ed-a830-4832-e04d-10d1abb1fb8a"
   },
   "outputs": [
    {
     "name": "stdout",
     "output_type": "stream",
     "text": [
      "(10,)\n"
     ]
    }
   ],
   "source": [
    "# This works on single examples\n",
    "random_flattened_image = random.normal(random.PRNGKey(1), (28 * 28,))\n",
    "preds = predict(params, random_flattened_image)\n",
    "print(preds.shape)"
   ]
  },
  {
   "cell_type": "code",
   "execution_count": 21,
   "metadata": {
    "execution": {
     "iopub.execute_input": "2023-01-10T02:06:09.184069Z",
     "iopub.status.busy": "2023-01-10T02:06:09.183737Z",
     "iopub.status.idle": "2023-01-10T02:06:09.204473Z",
     "shell.execute_reply": "2023-01-10T02:06:09.203382Z",
     "shell.execute_reply.started": "2023-01-10T02:06:09.184045Z"
    }
   },
   "outputs": [
    {
     "data": {
      "text/plain": [
       "DeviceArray([-2.2999449, -2.3020782, -2.2914264, -2.316797 , -2.301797 ,\n",
       "             -2.3098755, -2.305264 , -2.3020654, -2.302994 , -2.293843 ],            dtype=float32)"
      ]
     },
     "execution_count": 21,
     "metadata": {},
     "output_type": "execute_result"
    }
   ],
   "source": [
    "preds"
   ]
  },
  {
   "cell_type": "code",
   "execution_count": 8,
   "metadata": {
    "execution": {
     "iopub.execute_input": "2023-01-10T01:06:56.281960Z",
     "iopub.status.busy": "2023-01-10T01:06:56.281608Z",
     "iopub.status.idle": "2023-01-10T01:06:56.547185Z",
     "shell.execute_reply": "2023-01-10T01:06:56.545921Z",
     "shell.execute_reply.started": "2023-01-10T01:06:56.281936Z"
    },
    "id": "PpyQxuedXfhp",
    "outputId": "f43bbc9d-bc8f-4168-ee7b-79ee9d33f245"
   },
   "outputs": [
    {
     "name": "stdout",
     "output_type": "stream",
     "text": [
      "Invalid shapes!\n"
     ]
    }
   ],
   "source": [
    "# Doesn't work with a batch\n",
    "random_flattened_images = random.normal(random.PRNGKey(1), (10, 28 * 28))\n",
    "try:\n",
    "  preds = predict(params, random_flattened_images)\n",
    "except TypeError:\n",
    "  print('Invalid shapes!')"
   ]
  },
  {
   "cell_type": "code",
   "execution_count": 23,
   "metadata": {
    "execution": {
     "iopub.execute_input": "2023-01-10T02:07:50.945496Z",
     "iopub.status.busy": "2023-01-10T02:07:50.944362Z",
     "iopub.status.idle": "2023-01-10T02:07:50.981029Z",
     "shell.execute_reply": "2023-01-10T02:07:50.979897Z",
     "shell.execute_reply.started": "2023-01-10T02:07:50.945460Z"
    },
    "id": "oJOOncKMXbwK",
    "outputId": "fa380024-aaf8-4789-d3a2-f060134930e6"
   },
   "outputs": [
    {
     "name": "stdout",
     "output_type": "stream",
     "text": [
      "(10, 10)\n"
     ]
    }
   ],
   "source": [
    "# Let's upgrade it to handle batches using `vmap`\n",
    "\n",
    "# Make a batched version of the `predict` function\n",
    "batched_predict = vmap(predict, in_axes=(None, 0)) # specifying which input array axes to map over.  \n",
    "# tuple indicates which axis to map for each corresponding positional argument\n",
    "\n",
    "# `batched_predict` has the same call signature as `predict`\n",
    "batched_preds = batched_predict(params, random_flattened_images)\n",
    "print(batched_preds.shape)"
   ]
  },
  {
   "cell_type": "markdown",
   "metadata": {
    "id": "elsG6nX03BvW"
   },
   "source": [
    "At this point, we have all the ingredients we need to define our neural network and train it. We've built an auto-batched version of `predict`, which we should be able to use in a loss function. We should be able to use `grad` to take the derivative of the loss with respect to the neural network parameters. Last, we should be able to use `jit` to speed up everything."
   ]
  },
  {
   "cell_type": "markdown",
   "metadata": {
    "id": "NwDuFqc9X7ER"
   },
   "source": [
    "## Utility and loss functions"
   ]
  },
  {
   "cell_type": "code",
   "execution_count": 27,
   "metadata": {
    "execution": {
     "iopub.execute_input": "2023-01-10T02:12:03.702349Z",
     "iopub.status.busy": "2023-01-10T02:12:03.701120Z",
     "iopub.status.idle": "2023-01-10T02:12:03.711844Z",
     "shell.execute_reply": "2023-01-10T02:12:03.710509Z",
     "shell.execute_reply.started": "2023-01-10T02:12:03.702292Z"
    }
   },
   "outputs": [
    {
     "data": {
      "text/plain": [
       "(3, 1)"
      ]
     },
     "execution_count": 27,
     "metadata": {},
     "output_type": "execute_result"
    }
   ],
   "source": [
    "jnp.array([1,2,3])[:, None].shape"
   ]
  },
  {
   "cell_type": "code",
   "execution_count": 28,
   "metadata": {
    "execution": {
     "iopub.execute_input": "2023-01-10T02:17:41.747778Z",
     "iopub.status.busy": "2023-01-10T02:17:41.747357Z",
     "iopub.status.idle": "2023-01-10T02:17:41.755937Z",
     "shell.execute_reply": "2023-01-10T02:17:41.754792Z",
     "shell.execute_reply.started": "2023-01-10T02:17:41.747751Z"
    },
    "id": "6lTI6I4lWdh5"
   },
   "outputs": [],
   "source": [
    "def one_hot(x, k, dtype=jnp.float32):\n",
    "  \"\"\"Create a one-hot encoding of x of size k.\"\"\"\n",
    "  return jnp.array(x[:, None] == jnp.arange(k), dtype)\n",
    "  \n",
    "def accuracy(params, images, targets):\n",
    "  target_class = jnp.argmax(targets, axis=1)\n",
    "  predicted_class = jnp.argmax(batched_predict(params, images), axis=1)\n",
    "  return jnp.mean(predicted_class == target_class)\n",
    "\n",
    "def loss(params, images, targets):\n",
    "  preds = batched_predict(params, images)\n",
    "  return -jnp.mean(preds * targets) # preds are logits, cross entropy calc\n",
    "\n",
    "@jit\n",
    "def update(params, x, y):\n",
    "  grads = grad(loss)(params, x, y)\n",
    "  return [(w - step_size * dw, b - step_size * db) # SGD\n",
    "          for (w, b), (dw, db) in zip(params, grads)]"
   ]
  },
  {
   "cell_type": "markdown",
   "metadata": {
    "id": "umJJGZCC2oKl"
   },
   "source": [
    "## Data Loading with `tensorflow/datasets`\n",
    "\n",
    "JAX is laser-focused on program transformations and accelerator-backed NumPy, so we don't include data loading or munging in the JAX library. There are already a lot of great data loaders out there, so let's just use them instead of reinventing anything. We'll use the `tensorflow/datasets` data loader."
   ]
  },
  {
   "cell_type": "code",
   "execution_count": 30,
   "metadata": {
    "execution": {
     "iopub.execute_input": "2023-01-10T02:19:01.849068Z",
     "iopub.status.busy": "2023-01-10T02:19:01.848712Z",
     "iopub.status.idle": "2023-01-10T02:19:01.855637Z",
     "shell.execute_reply": "2023-01-10T02:19:01.854174Z",
     "shell.execute_reply.started": "2023-01-10T02:19:01.849042Z"
    }
   },
   "outputs": [],
   "source": [
    "import tensorflow as tf\n",
    "# Ensure TF does not see GPU and grab all GPU memory.\n",
    "tf.config.set_visible_devices([], device_type='GPU')\n",
    "\n",
    "import tensorflow_datasets as tfds\n"
   ]
  },
  {
   "cell_type": "code",
   "execution_count": 31,
   "metadata": {
    "execution": {
     "iopub.execute_input": "2023-01-10T02:19:30.669655Z",
     "iopub.status.busy": "2023-01-10T02:19:30.669304Z",
     "iopub.status.idle": "2023-01-10T02:19:32.954428Z",
     "shell.execute_reply": "2023-01-10T02:19:32.950888Z",
     "shell.execute_reply.started": "2023-01-10T02:19:30.669631Z"
    }
   },
   "outputs": [],
   "source": [
    "data_dir = '/tmp/tfds'\n",
    "\n",
    "# Fetch full datasets for evaluation\n",
    "# tfds.load returns tf.Tensors (or tf.data.Datasets if batch_size != -1)\n",
    "# You can convert them to NumPy arrays (or iterables of NumPy arrays) with tfds.dataset_as_numpy\n",
    "mnist_data, info = tfds.load(name=\"mnist\", batch_size=-1, data_dir=data_dir, with_info=True)"
   ]
  },
  {
   "cell_type": "code",
   "execution_count": 32,
   "metadata": {
    "execution": {
     "iopub.execute_input": "2023-01-10T02:24:59.137125Z",
     "iopub.status.busy": "2023-01-10T02:24:59.136764Z",
     "iopub.status.idle": "2023-01-10T02:24:59.145420Z",
     "shell.execute_reply": "2023-01-10T02:24:59.144609Z",
     "shell.execute_reply.started": "2023-01-10T02:24:59.137087Z"
    }
   },
   "outputs": [
    {
     "data": {
      "text/plain": [
       "tfds.core.DatasetInfo(\n",
       "    name='mnist',\n",
       "    full_name='mnist/3.0.1',\n",
       "    description=\"\"\"\n",
       "    The MNIST database of handwritten digits.\n",
       "    \"\"\",\n",
       "    homepage='http://yann.lecun.com/exdb/mnist/',\n",
       "    data_path='/tmp/tfds/mnist/3.0.1',\n",
       "    file_format=tfrecord,\n",
       "    download_size=11.06 MiB,\n",
       "    dataset_size=21.00 MiB,\n",
       "    features=FeaturesDict({\n",
       "        'image': Image(shape=(28, 28, 1), dtype=uint8),\n",
       "        'label': ClassLabel(shape=(), dtype=int64, num_classes=10),\n",
       "    }),\n",
       "    supervised_keys=('image', 'label'),\n",
       "    disable_shuffling=False,\n",
       "    splits={\n",
       "        'test': <SplitInfo num_examples=10000, num_shards=1>,\n",
       "        'train': <SplitInfo num_examples=60000, num_shards=1>,\n",
       "    },\n",
       "    citation=\"\"\"@article{lecun2010mnist,\n",
       "      title={MNIST handwritten digit database},\n",
       "      author={LeCun, Yann and Cortes, Corinna and Burges, CJ},\n",
       "      journal={ATT Labs [Online]. Available: http://yann.lecun.com/exdb/mnist},\n",
       "      volume={2},\n",
       "      year={2010}\n",
       "    }\"\"\",\n",
       ")"
      ]
     },
     "execution_count": 32,
     "metadata": {},
     "output_type": "execute_result"
    }
   ],
   "source": [
    "info"
   ]
  },
  {
   "cell_type": "code",
   "execution_count": 33,
   "metadata": {
    "execution": {
     "iopub.execute_input": "2023-01-10T02:25:51.672519Z",
     "iopub.status.busy": "2023-01-10T02:25:51.672194Z",
     "iopub.status.idle": "2023-01-10T02:25:51.678851Z",
     "shell.execute_reply": "2023-01-10T02:25:51.677992Z",
     "shell.execute_reply.started": "2023-01-10T02:25:51.672496Z"
    }
   },
   "outputs": [],
   "source": [
    "mnist_data = tfds.as_numpy(mnist_data)\n",
    "train_data, test_data = mnist_data['train'], mnist_data['test']"
   ]
  },
  {
   "cell_type": "code",
   "execution_count": 38,
   "metadata": {
    "execution": {
     "iopub.execute_input": "2023-01-10T02:26:54.444530Z",
     "iopub.status.busy": "2023-01-10T02:26:54.444132Z",
     "iopub.status.idle": "2023-01-10T02:26:54.469395Z",
     "shell.execute_reply": "2023-01-10T02:26:54.468484Z",
     "shell.execute_reply.started": "2023-01-10T02:26:54.444503Z"
    },
    "id": "uWvo1EgZCvnK"
   },
   "outputs": [],
   "source": [
    "num_labels = info.features['label'].num_classes\n",
    "h, w, c = info.features['image'].shape\n",
    "num_pixels = h * w * c\n",
    "\n",
    "# Full train set\n",
    "train_images, train_labels = train_data['image'], train_data['label']\n",
    "train_images = jnp.reshape(train_images, (len(train_images), num_pixels))\n",
    "train_labels = one_hot(train_labels, num_labels)\n",
    "\n",
    "# Full test set\n",
    "test_images, test_labels = test_data['image'], test_data['label']\n",
    "test_images = jnp.reshape(test_images, (len(test_images), num_pixels))\n",
    "test_labels = one_hot(test_labels, num_labels)"
   ]
  },
  {
   "cell_type": "code",
   "execution_count": 39,
   "metadata": {
    "execution": {
     "iopub.execute_input": "2023-01-10T02:26:57.988269Z",
     "iopub.status.busy": "2023-01-10T02:26:57.987238Z",
     "iopub.status.idle": "2023-01-10T02:26:57.993339Z",
     "shell.execute_reply": "2023-01-10T02:26:57.992516Z",
     "shell.execute_reply.started": "2023-01-10T02:26:57.988237Z"
    },
    "id": "7VMSC03gCvnO",
    "outputId": "e565586e-d598-4fa1-dd6f-10ba39617f6a"
   },
   "outputs": [
    {
     "name": "stdout",
     "output_type": "stream",
     "text": [
      "Train: (60000, 784) (60000, 10)\n",
      "Test: (10000, 784) (10000, 10)\n"
     ]
    }
   ],
   "source": [
    "print('Train:', train_images.shape, train_labels.shape)\n",
    "print('Test:', test_images.shape, test_labels.shape)"
   ]
  },
  {
   "cell_type": "code",
   "execution_count": 40,
   "metadata": {
    "execution": {
     "iopub.execute_input": "2023-01-10T02:27:22.038154Z",
     "iopub.status.busy": "2023-01-10T02:27:22.037735Z",
     "iopub.status.idle": "2023-01-10T02:27:22.044536Z",
     "shell.execute_reply": "2023-01-10T02:27:22.043819Z",
     "shell.execute_reply.started": "2023-01-10T02:27:22.038126Z"
    }
   },
   "outputs": [
    {
     "data": {
      "text/plain": [
       "array([[0, 0, 0, ..., 0, 0, 0],\n",
       "       [0, 0, 0, ..., 0, 0, 0],\n",
       "       [0, 0, 0, ..., 0, 0, 0],\n",
       "       ...,\n",
       "       [0, 0, 0, ..., 0, 0, 0],\n",
       "       [0, 0, 0, ..., 0, 0, 0],\n",
       "       [0, 0, 0, ..., 0, 0, 0]], dtype=uint8)"
      ]
     },
     "execution_count": 40,
     "metadata": {},
     "output_type": "execute_result"
    }
   ],
   "source": [
    "train_images"
   ]
  },
  {
   "cell_type": "code",
   "execution_count": 41,
   "metadata": {
    "execution": {
     "iopub.execute_input": "2023-01-10T02:27:51.278372Z",
     "iopub.status.busy": "2023-01-10T02:27:51.277187Z",
     "iopub.status.idle": "2023-01-10T02:27:51.284451Z",
     "shell.execute_reply": "2023-01-10T02:27:51.283479Z",
     "shell.execute_reply.started": "2023-01-10T02:27:51.278342Z"
    }
   },
   "outputs": [
    {
     "data": {
      "text/plain": [
       "(60000, 10)"
      ]
     },
     "execution_count": 41,
     "metadata": {},
     "output_type": "execute_result"
    }
   ],
   "source": [
    "train_labels.shape"
   ]
  },
  {
   "cell_type": "markdown",
   "metadata": {
    "id": "xxPd6Qw3Z98v"
   },
   "source": [
    "## Training Loop"
   ]
  },
  {
   "cell_type": "code",
   "execution_count": 42,
   "metadata": {
    "execution": {
     "iopub.execute_input": "2023-01-10T02:29:31.117474Z",
     "iopub.status.busy": "2023-01-10T02:29:31.116377Z",
     "iopub.status.idle": "2023-01-10T02:30:05.524796Z",
     "shell.execute_reply": "2023-01-10T02:30:05.523998Z",
     "shell.execute_reply.started": "2023-01-10T02:29:31.117428Z"
    },
    "id": "X2DnZo3iYj18",
    "outputId": "bad334e0-127a-40fe-ec21-b0db77c73088"
   },
   "outputs": [
    {
     "name": "stdout",
     "output_type": "stream",
     "text": [
      "Epoch 0 in 4.20 sec\n",
      "Training set accuracy 0.8981000185012817\n",
      "Test set accuracy 0.9012999534606934\n",
      "Epoch 1 in 2.67 sec\n",
      "Training set accuracy 0.9223333597183228\n",
      "Test set accuracy 0.9243999719619751\n",
      "Epoch 2 in 2.59 sec\n",
      "Training set accuracy 0.9346833229064941\n",
      "Test set accuracy 0.9343999624252319\n",
      "Epoch 3 in 3.13 sec\n",
      "Training set accuracy 0.9429666996002197\n",
      "Test set accuracy 0.94159996509552\n",
      "Epoch 4 in 2.89 sec\n",
      "Training set accuracy 0.9493666887283325\n",
      "Test set accuracy 0.9472000002861023\n",
      "Epoch 5 in 2.56 sec\n",
      "Training set accuracy 0.9543499946594238\n",
      "Test set accuracy 0.9521999955177307\n",
      "Epoch 6 in 3.02 sec\n",
      "Training set accuracy 0.9589499831199646\n",
      "Test set accuracy 0.9559999704360962\n",
      "Epoch 7 in 2.81 sec\n",
      "Training set accuracy 0.9629666805267334\n",
      "Test set accuracy 0.9593999981880188\n",
      "Epoch 8 in 2.96 sec\n",
      "Training set accuracy 0.9659166932106018\n",
      "Test set accuracy 0.9615999460220337\n",
      "Epoch 9 in 2.86 sec\n",
      "Training set accuracy 0.9687166810035706\n",
      "Test set accuracy 0.963699996471405\n"
     ]
    }
   ],
   "source": [
    "import time\n",
    "\n",
    "def get_train_batches():\n",
    "  # as_supervised=True gives us the (image, label) as a tuple instead of a dict\n",
    "  ds = tfds.load(name='mnist', split='train', as_supervised=True, data_dir=data_dir)\n",
    "  # You can build up an arbitrary tf.data input pipeline\n",
    "  ds = ds.batch(batch_size).prefetch(1)\n",
    "  # tfds.dataset_as_numpy converts the tf.data.Dataset into an iterable of NumPy arrays\n",
    "  return tfds.as_numpy(ds)\n",
    "\n",
    "for epoch in range(num_epochs):\n",
    "  start_time = time.time()\n",
    "  for x, y in get_train_batches():\n",
    "    x = jnp.reshape(x, (len(x), num_pixels))\n",
    "    y = one_hot(y, num_labels)\n",
    "    params = update(params, x, y)\n",
    "  epoch_time = time.time() - start_time\n",
    "\n",
    "  train_acc = accuracy(params, train_images, train_labels)\n",
    "  test_acc = accuracy(params, test_images, test_labels)\n",
    "  print(\"Epoch {} in {:0.2f} sec\".format(epoch, epoch_time))\n",
    "  print(\"Training set accuracy {}\".format(train_acc))\n",
    "  print(\"Test set accuracy {}\".format(test_acc))"
   ]
  },
  {
   "cell_type": "markdown",
   "metadata": {
    "id": "xC1CMcVNYwxm"
   },
   "source": [
    "We've now used the whole of the JAX API: `grad` for derivatives, `jit` for speedups and `vmap` for auto-vectorization.\n",
    "We used NumPy to specify all of our computation, and borrowed the great data loaders from `tensorflow/datasets`, and ran the whole thing on the GPU."
   ]
  }
 ],
 "metadata": {
  "accelerator": "GPU",
  "colab": {
   "collapsed_sections": [],
   "name": "neural-network-and-data-loading.ipynb",
   "provenance": [],
   "toc_visible": true,
   "version": "0.3.2"
  },
  "jupytext": {
   "formats": "ipynb,md:myst"
  },
  "kernelspec": {
   "display_name": "Python 3 (ipykernel)",
   "language": "python",
   "name": "python3"
  },
  "language_info": {
   "codemirror_mode": {
    "name": "ipython",
    "version": 3
   },
   "file_extension": ".py",
   "mimetype": "text/x-python",
   "name": "python",
   "nbconvert_exporter": "python",
   "pygments_lexer": "ipython3",
   "version": "3.9.13"
  }
 },
 "nbformat": 4,
 "nbformat_minor": 4
}
